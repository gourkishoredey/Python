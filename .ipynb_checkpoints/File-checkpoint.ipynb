{
 "cells": [
  {
   "cell_type": "code",
   "execution_count": null,
   "id": "fc454e2a",
   "metadata": {},
   "outputs": [],
   "source": [
    "#   .txt and .csv can only use in python\n",
    "# file = open('<file_name','<mode>')\n",
    "# file.close()"
   ]
  },
  {
   "cell_type": "code",
   "execution_count": null,
   "id": "2dba827c",
   "metadata": {},
   "outputs": [],
   "source": [
    "# mode\n",
    "# read ->r\n",
    "# write ->w = Means if not create, create and write\n",
    "# append ->a\n",
    "# create ->x"
   ]
  },
  {
   "cell_type": "code",
   "execution_count": 8,
   "id": "99de0fef",
   "metadata": {},
   "outputs": [
    {
     "name": "stdout",
     "output_type": "stream",
     "text": [
      "This file already exits!\n"
     ]
    }
   ],
   "source": [
    "try:\n",
    "    file =open('data.txt','x')\n",
    "    file.close()\n",
    "except:\n",
    "    print(\"This file already exits!\")"
   ]
  },
  {
   "cell_type": "code",
   "execution_count": 12,
   "id": "38a52a5c",
   "metadata": {},
   "outputs": [
    {
     "name": "stdout",
     "output_type": "stream",
     "text": [
      "1. Hello world\n",
      "2. Hello world\n",
      "3. Hello world\n",
      "4. Hello world\n",
      "5. Hello world\n",
      "6. Hello world\n",
      "7. Hello world\n",
      "8. Hello world\n",
      "<_io.TextIOWrapper name='data.txt' mode='r' encoding='cp1252'>\n"
     ]
    }
   ],
   "source": [
    "file =open('data.txt','r')\n",
    "data = file.read()\n",
    "print(data)\n",
    "print(file)\n",
    "file.close()"
   ]
  },
  {
   "cell_type": "code",
   "execution_count": 24,
   "id": "0bb55ae3",
   "metadata": {},
   "outputs": [],
   "source": [
    "# pwd used to understand file location\n"
   ]
  },
  {
   "cell_type": "code",
   "execution_count": 23,
   "id": "4a5c8b2a",
   "metadata": {},
   "outputs": [
    {
     "data": {
      "text/plain": [
       "'C:\\\\Users\\\\Gour\\\\Python_Learning'"
      ]
     },
     "execution_count": 23,
     "metadata": {},
     "output_type": "execute_result"
    }
   ],
   "source": [
    "pwd\n"
   ]
  },
  {
   "cell_type": "code",
   "execution_count": 25,
   "id": "2d38c0bb",
   "metadata": {},
   "outputs": [
    {
     "data": {
      "text/plain": [
       "'1. Hello world\\n2. Hello world\\n3. Hello world\\n4. Hello world\\n5. Hello world\\n6. Hello world\\n7. Hello world\\n8. Hello world'"
      ]
     },
     "execution_count": 25,
     "metadata": {},
     "output_type": "execute_result"
    }
   ],
   "source": [
    "data"
   ]
  },
  {
   "cell_type": "code",
   "execution_count": 26,
   "id": "fa94bf4a",
   "metadata": {},
   "outputs": [
    {
     "data": {
      "text/plain": [
       "['1. Hello world',\n",
       " '2. Hello world',\n",
       " '3. Hello world',\n",
       " '4. Hello world',\n",
       " '5. Hello world',\n",
       " '6. Hello world',\n",
       " '7. Hello world',\n",
       " '8. Hello world']"
      ]
     },
     "execution_count": 26,
     "metadata": {},
     "output_type": "execute_result"
    }
   ],
   "source": [
    "data.split('\\n')"
   ]
  },
  {
   "cell_type": "code",
   "execution_count": 30,
   "id": "bcfbb433",
   "metadata": {},
   "outputs": [
    {
     "name": "stdout",
     "output_type": "stream",
     "text": [
      "1. Hello world\n"
     ]
    }
   ],
   "source": [
    "x = data.split('\\n')[0]\n",
    "print(x)"
   ]
  },
  {
   "cell_type": "code",
   "execution_count": 33,
   "id": "ea4b28d0",
   "metadata": {},
   "outputs": [],
   "source": [
    "file = open('datas.txt','w')\n",
    "file.write('Hello World')\n",
    "file.close()"
   ]
  },
  {
   "cell_type": "code",
   "execution_count": null,
   "id": "2a0f644a",
   "metadata": {},
   "outputs": [],
   "source": [
    "# import pandas as pd\n",
    "# df =pd.read_csv(<File_name>)\n",
    "# print(df)"
   ]
  },
  {
   "cell_type": "code",
   "execution_count": null,
   "id": "dd97383c",
   "metadata": {},
   "outputs": [],
   "source": []
  },
  {
   "cell_type": "code",
   "execution_count": null,
   "id": "3513f952",
   "metadata": {},
   "outputs": [],
   "source": []
  },
  {
   "cell_type": "code",
   "execution_count": null,
   "id": "b1d8c9b1",
   "metadata": {},
   "outputs": [],
   "source": []
  }
 ],
 "metadata": {
  "kernelspec": {
   "display_name": "Python 3 (ipykernel)",
   "language": "python",
   "name": "python3"
  },
  "language_info": {
   "codemirror_mode": {
    "name": "ipython",
    "version": 3
   },
   "file_extension": ".py",
   "mimetype": "text/x-python",
   "name": "python",
   "nbconvert_exporter": "python",
   "pygments_lexer": "ipython3",
   "version": "3.9.13"
  }
 },
 "nbformat": 4,
 "nbformat_minor": 5
}
