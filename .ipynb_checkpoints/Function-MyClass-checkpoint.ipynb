{
 "cells": [
  {
   "cell_type": "code",
   "execution_count": null,
   "id": "b0e0dc97",
   "metadata": {},
   "outputs": [],
   "source": [
    "# Pre define function\n",
    "# User define function"
   ]
  },
  {
   "cell_type": "code",
   "execution_count": null,
   "id": "03fc9089",
   "metadata": {},
   "outputs": [],
   "source": [
    "# pre define\n",
    "# int() float() str() print() input()\n",
    "# User define\n",
    "# def<function_name>():\n",
    "#     <operations>\n",
    "    \n",
    "# <function_name>()"
   ]
  },
  {
   "cell_type": "code",
   "execution_count": 4,
   "id": "eeb2877e",
   "metadata": {},
   "outputs": [
    {
     "name": "stdout",
     "output_type": "stream",
     "text": [
      "10\n"
     ]
    }
   ],
   "source": [
    "a = 10\n",
    "print(10)"
   ]
  },
  {
   "cell_type": "code",
   "execution_count": 3,
   "id": "c56139e3",
   "metadata": {},
   "outputs": [
    {
     "name": "stdout",
     "output_type": "stream",
     "text": [
      "Hello World\n",
      "None\n",
      "Hello World\n"
     ]
    }
   ],
   "source": [
    "def hello():\n",
    "    print(\"Hello World\")\n",
    "    \n",
    "print(hello())\n",
    "hello()"
   ]
  },
  {
   "cell_type": "code",
   "execution_count": 8,
   "id": "8e0a0a0b",
   "metadata": {},
   "outputs": [
    {
     "name": "stdout",
     "output_type": "stream",
     "text": [
      "ENter l = 20\n",
      "ENter b = 3\n",
      "60\n"
     ]
    }
   ],
   "source": [
    "def area():\n",
    "    l = int(input(\"ENter l = \"))      # local variable\n",
    "    b = int(input(\"ENter b = \"))       # Local variable\n",
    "    a =l*b\n",
    "    print(a)\n",
    "\n",
    "area()"
   ]
  },
  {
   "cell_type": "code",
   "execution_count": null,
   "id": "45ba9d4d",
   "metadata": {},
   "outputs": [],
   "source": [
    "l = int(input(\"ENter l = \"))      # Global variable\n",
    "b = int(input(\"ENter b = \"))       # Global variable\n",
    "\n",
    "def area():\n",
    "    a =l*b\n",
    "    print(a)\n",
    "\n",
    "area()"
   ]
  },
  {
   "cell_type": "code",
   "execution_count": null,
   "id": "21dab0e8",
   "metadata": {},
   "outputs": [],
   "source": [
    "# function without argument and no return type\n",
    "# function with argument and no return type\n",
    "# function without argument and return type\n",
    "# function with argument and return type"
   ]
  },
  {
   "cell_type": "code",
   "execution_count": null,
   "id": "e2daf2b7",
   "metadata": {},
   "outputs": [],
   "source": [
    "# function without argument and no return type\n",
    "l = int(input(\"ENter l = \"))      # Global variable\n",
    "b = int(input(\"ENter b = \"))       # Global variable\n",
    "\n",
    "def area():\n",
    "    a =l*b\n",
    "    print(a)\n",
    "\n",
    "area()"
   ]
  },
  {
   "cell_type": "code",
   "execution_count": 9,
   "id": "053f811f",
   "metadata": {},
   "outputs": [
    {
     "name": "stdout",
     "output_type": "stream",
     "text": [
      "ENter l = 10\n",
      "ENter b = 5\n",
      "50\n"
     ]
    }
   ],
   "source": [
    "# function with argument and no return type\n",
    "l = int(input(\"ENter l = \"))      # Global variable\n",
    "b = int(input(\"ENter b = \"))       # Global variable\n",
    "\n",
    "def area(x,y):    #Parameter\n",
    "    a =x*y\n",
    "    print(a)\n",
    "\n",
    "area(l,b)    #Argument"
   ]
  },
  {
   "cell_type": "code",
   "execution_count": 10,
   "id": "62e49b88",
   "metadata": {},
   "outputs": [
    {
     "name": "stdout",
     "output_type": "stream",
     "text": [
      "ENter l = 10\n",
      "ENter b = 5\n",
      "50\n"
     ]
    }
   ],
   "source": [
    "# function with argument and no return type\n",
    "\n",
    "\n",
    "def area(x,y):    #Parameter\n",
    "    a =x*y\n",
    "    print(a)\n",
    "\n",
    "l = int(input(\"ENter l = \"))      # Global variable\n",
    "b = int(input(\"ENter b = \"))       # Global variable\n",
    "\n",
    "area(l,b)    #Argument"
   ]
  },
  {
   "cell_type": "code",
   "execution_count": 13,
   "id": "969acd7c",
   "metadata": {},
   "outputs": [
    {
     "name": "stdout",
     "output_type": "stream",
     "text": [
      "ENter l = 10\n",
      "ENter b = 5\n",
      "ENter h = 10\n",
      "50\n"
     ]
    }
   ],
   "source": [
    "# function with argument and no return type\n",
    "\n",
    "\n",
    "def area(x,y):    #Parameter\n",
    "    a =x*y\n",
    "    print(a)\n",
    "    \n",
    "def volume(x,y,z):     #Parameter\n",
    "    v = x*y*z\n",
    "\n",
    "l = int(input(\"ENter l = \"))      # Global variable\n",
    "b = int(input(\"ENter b = \"))       # Global variable\n",
    "h = int(input(\"ENter h = \"))       # Global variable\n",
    "\n",
    "area(l,b)    #Argument\n",
    "volume(l,b,h)   #Argument\n"
   ]
  },
  {
   "cell_type": "code",
   "execution_count": null,
   "id": "9325027d",
   "metadata": {},
   "outputs": [],
   "source": [
    "# return tyoe function"
   ]
  },
  {
   "cell_type": "code",
   "execution_count": 15,
   "id": "84bdd428",
   "metadata": {},
   "outputs": [
    {
     "name": "stdout",
     "output_type": "stream",
     "text": [
      "Hello world\n"
     ]
    }
   ],
   "source": [
    "# function without argument and return type\n",
    "\n",
    "def hello():\n",
    "    return \"Hello world\"\n",
    "\n",
    "print(hello())"
   ]
  },
  {
   "cell_type": "code",
   "execution_count": 28,
   "id": "0d9cbc9b",
   "metadata": {},
   "outputs": [
    {
     "name": "stdout",
     "output_type": "stream",
     "text": [
      "20\n",
      "The volume = 40\n"
     ]
    }
   ],
   "source": [
    "# function without argument and return type\n",
    "\n",
    "def area():\n",
    "    l = 10\n",
    "    b = 2\n",
    "    a = l*b\n",
    "    return a\n",
    "x = area()\n",
    "h = 2\n",
    "\n",
    "print(x)\n",
    "print(\"The volume =\",x*h)"
   ]
  },
  {
   "cell_type": "code",
   "execution_count": 30,
   "id": "d728cae7",
   "metadata": {},
   "outputs": [
    {
     "name": "stdout",
     "output_type": "stream",
     "text": [
      "Enter l = 10\n",
      "Enter b = 3\n",
      "Enter h = 2\n",
      "This is the area =  30\n",
      "The volume = 60\n"
     ]
    }
   ],
   "source": [
    "# function with argument and return type\n",
    "\n",
    "def area(l,b):\n",
    "    a = l*b\n",
    "    return a\n",
    "\n",
    "l = int(input(\"Enter l = \"))\n",
    "b = int(input(\"Enter b = \"))\n",
    "h = int(input(\"Enter h = \"))\n",
    "\n",
    "x = area(l,b)\n",
    "\n",
    "print(\"This is the area = \",x)\n",
    "print(\"The volume =\",x*h)"
   ]
  },
  {
   "cell_type": "code",
   "execution_count": 31,
   "id": "4a7a9bd4",
   "metadata": {},
   "outputs": [
    {
     "name": "stdout",
     "output_type": "stream",
     "text": [
      "Enter l = 100\n",
      "Enter b = 23\n",
      "Enter h = 45\n",
      "This is the area =  2300\n",
      "The volume = 103500\n"
     ]
    }
   ],
   "source": [
    "# function with argument and return type\n",
    "\n",
    "def cal(l,b,h):\n",
    "    a = l*b\n",
    "    v = a*h\n",
    "    return a,v\n",
    "\n",
    "l = int(input(\"Enter l = \"))\n",
    "b = int(input(\"Enter b = \"))\n",
    "h = int(input(\"Enter h = \"))\n",
    "\n",
    "x = cal(l,b,h)\n",
    "area,volume = x\n",
    "print(\"This is the area = \",area)\n",
    "print(\"The volume =\",volume)"
   ]
  },
  {
   "cell_type": "code",
   "execution_count": 32,
   "id": "e746def2",
   "metadata": {},
   "outputs": [
    {
     "name": "stdout",
     "output_type": "stream",
     "text": [
      "C\n",
      "C++\n",
      "Java\n",
      "python\n"
     ]
    }
   ],
   "source": [
    "def language(lan = \"python\"):\n",
    "    print(lan)\n",
    "language(\"C\")\n",
    "language(\"C++\")\n",
    "language(\"Java\")\n",
    "language()\n"
   ]
  },
  {
   "cell_type": "code",
   "execution_count": 34,
   "id": "66825382",
   "metadata": {},
   "outputs": [
    {
     "name": "stdout",
     "output_type": "stream",
     "text": [
      "C\n",
      "C++\n",
      "Java\n",
      "python\n"
     ]
    }
   ],
   "source": [
    "def language(l,lan = \"python\"):\n",
    "    print(lan)\n",
    "language(1,\"C\")\n",
    "language(3,\"C++\")\n",
    "language(4,\"Java\")\n",
    "language(0)"
   ]
  },
  {
   "cell_type": "code",
   "execution_count": 1,
   "id": "b610dc45",
   "metadata": {},
   "outputs": [
    {
     "name": "stdout",
     "output_type": "stream",
     "text": [
      "Enter a = 10\n",
      "Enter b = 5\n",
      "Enter + - * /  -\n",
      "5\n"
     ]
    }
   ],
   "source": [
    "def add(a,b):\n",
    "    return a+b\n",
    "def sub(a,b):\n",
    "    return a-b\n",
    "def mul(a,b):\n",
    "    return a*b\n",
    "def div(a,b):\n",
    "    return a/b\n",
    "def cal():\n",
    "    a = int(input(\"Enter a = \"))\n",
    "    b = int(input(\"Enter b = \"))\n",
    "    o = input(\"Enter + - * /  \")\n",
    "    if o == \"+\":\n",
    "        print(add(a,b))\n",
    "    elif o == '-':\n",
    "        print(sub(a,b))\n",
    "    elif o == '*':\n",
    "        print(mul(a,b))\n",
    "    elif o == '/':\n",
    "        print(div(a,b))\n",
    "\n",
    "    else:\n",
    "        print(\"Invalid operator \")\n",
    "        \n",
    "cal()"
   ]
  },
  {
   "cell_type": "code",
   "execution_count": 2,
   "id": "9bdb866c",
   "metadata": {},
   "outputs": [
    {
     "name": "stdout",
     "output_type": "stream",
     "text": [
      "Hello WOrld\n",
      "ENter y for more print = y\n",
      "Hello WOrld\n",
      "ENter y for more print = y\n",
      "Hello WOrld\n",
      "ENter y for more print = wfrw\n"
     ]
    }
   ],
   "source": [
    "def hello():\n",
    "    print(\"Hello WOrld\")\n",
    "    x = input(\"ENter y for more print = \")\n",
    "    if x == \"y\":\n",
    "        hello()\n",
    "\n",
    "hello()"
   ]
  },
  {
   "cell_type": "code",
   "execution_count": 3,
   "id": "08d241f9",
   "metadata": {},
   "outputs": [
    {
     "name": "stdout",
     "output_type": "stream",
     "text": [
      "ENter l = 10\n",
      "ENter b = 5\n",
      "50\n",
      "press enter for more calculation.\n",
      "ENter l = 100\n",
      "ENter b = 5\n",
      "500\n",
      "press enter for more calculation.\n",
      "ENter l = 10\n",
      "ENter b = 2\n",
      "20\n",
      "press enter for more calculation.0\n"
     ]
    }
   ],
   "source": [
    "\n",
    "\n",
    "def area():\n",
    "    l = int(input(\"ENter l = \")) \n",
    "    b = int(input(\"ENter b = \")) \n",
    "    a =l*b\n",
    "    print(a)\n",
    "    x = input(\"Press enter for more calculation.\")\n",
    "    if x == \"\":\n",
    "        area()\n",
    "\n",
    "area()"
   ]
  },
  {
   "cell_type": "code",
   "execution_count": 5,
   "id": "5b8eefe3",
   "metadata": {},
   "outputs": [
    {
     "name": "stdout",
     "output_type": "stream",
     "text": [
      "Enter c = 2\n",
      "Enter product name = Banana\n",
      "Enter price = 50\n",
      "Enter quantity = 3\n",
      "Enter product name = Kela\n",
      "Enter price = 50\n",
      "Enter quantity = 3\n",
      "Banana 50 3 150\n",
      "Kela 50 3 150\n",
      "\n",
      "All total =  300\n"
     ]
    }
   ],
   "source": [
    "s = str()\n",
    "i = 0\n",
    "all_total = 0\n",
    "c = int(input(\"Enter c = \"))\n",
    "while i<c:\n",
    "    name = input(\"Enter product name = \")\n",
    "    price  = int(input(\"Enter price = \"))\n",
    "    quantity  = int(input(\"Enter quantity = \"))\n",
    "    total = price*quantity\n",
    "    all_total = all_total + total\n",
    "    s = s + f\"{name} {price} {quantity} {total}\\n\"\n",
    "    i = i+1\n",
    "\n",
    "\n",
    "print(s)\n",
    "print(\"All total = \",all_total)\n"
   ]
  },
  {
   "cell_type": "code",
   "execution_count": 17,
   "id": "74e4481f",
   "metadata": {},
   "outputs": [
    {
     "name": "stdout",
     "output_type": "stream",
     "text": [
      "Enter product name = Apple\n",
      "Enter price = 200\n",
      "Enter quantity = 5\n",
      "Press enter for more product :\n",
      "Enter product name = Banana\n",
      "Enter price = 5\n",
      "Enter quantity = 30\n",
      "Press enter for more product :dfwf\n",
      "Apple 200 5 1000\n",
      "Banana 5 30 150\n",
      "\n",
      "All total =  1150\n"
     ]
    }
   ],
   "source": [
    "s = str()\n",
    "all_total = 0\n",
    "\n",
    "def bill():\n",
    "    global s,all_total\n",
    "    \n",
    "    name = input(\"Enter product name = \")\n",
    "    price  = int(input(\"Enter price = \"))\n",
    "    quantity  = int(input(\"Enter quantity = \"))\n",
    "    total = price*quantity\n",
    "    all_total = all_total + total\n",
    "    s = s + f\"{name} {price} {quantity} {total}\\n\"\n",
    "\n",
    "    x = input(\"Press enter for more product :\")\n",
    "    if x == \"\":\n",
    "        bill()\n",
    "bill()\n",
    "print(s)\n",
    "print(\"All total = \",all_total)\n"
   ]
  },
  {
   "cell_type": "code",
   "execution_count": 19,
   "id": "e7a53982",
   "metadata": {},
   "outputs": [
    {
     "name": "stdout",
     "output_type": "stream",
     "text": [
      "ENter l = 20\n",
      "ENter b = 5\n",
      "100\n"
     ]
    }
   ],
   "source": [
    "def area(x):\n",
    "\n",
    "    a =l*b\n",
    "    print(a)\n",
    " \n",
    "l = int(input(\"ENter l = \")) \n",
    "b = int(input(\"ENter b = \")) \n",
    "x =(l,b)\n",
    "area(x)"
   ]
  },
  {
   "cell_type": "code",
   "execution_count": 33,
   "id": "760f50b4",
   "metadata": {},
   "outputs": [
    {
     "name": "stdout",
     "output_type": "stream",
     "text": [
      "Enter name = Bishnu\n",
      "ENter age = 25\n",
      "Hello world I am Bishnu. My age is 25\n"
     ]
    }
   ],
   "source": [
    "def info(data):\n",
    "    \n",
    "    print(f\"Hello world I am {data['name']}. My age is {data['age']}\")\n",
    "\n",
    "name = input(\"Enter name = \")\n",
    "age = int(input(\"ENter age = \"))\n",
    "\n",
    "d = {'name':name,'age':age}\n",
    "info(d)"
   ]
  },
  {
   "cell_type": "code",
   "execution_count": 50,
   "id": "15a6aa6c",
   "metadata": {},
   "outputs": [
    {
     "data": {
      "text/plain": [
       "3.141592653589793"
      ]
     },
     "execution_count": 50,
     "metadata": {},
     "output_type": "execute_result"
    }
   ],
   "source": [
    "import math as m\n",
    "m.pi\n"
   ]
  },
  {
   "cell_type": "code",
   "execution_count": null,
   "id": "450d41b1",
   "metadata": {},
   "outputs": [],
   "source": []
  }
 ],
 "metadata": {
  "kernelspec": {
   "display_name": "Python 3 (ipykernel)",
   "language": "python",
   "name": "python3"
  },
  "language_info": {
   "codemirror_mode": {
    "name": "ipython",
    "version": 3
   },
   "file_extension": ".py",
   "mimetype": "text/x-python",
   "name": "python",
   "nbconvert_exporter": "python",
   "pygments_lexer": "ipython3",
   "version": "3.9.13"
  }
 },
 "nbformat": 4,
 "nbformat_minor": 5
}
