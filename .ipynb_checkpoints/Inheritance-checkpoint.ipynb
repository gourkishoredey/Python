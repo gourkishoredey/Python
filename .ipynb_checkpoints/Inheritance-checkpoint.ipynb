{
 "cells": [
  {
   "cell_type": "code",
   "execution_count": 1,
   "id": "f5301668",
   "metadata": {},
   "outputs": [],
   "source": [
    "class A:\n",
    "    pass\n",
    "class B(A):\n",
    "    pass\n",
    "\n",
    "obj = B()"
   ]
  },
  {
   "cell_type": "code",
   "execution_count": 5,
   "id": "5d271b83",
   "metadata": {},
   "outputs": [
    {
     "name": "stdout",
     "output_type": "stream",
     "text": [
      "enter name = Gour\n",
      "enter age = 23\n",
      "enter address = Lalitpur\n",
      "Hello world I am Gour. I am from Lalitpur. I am 23\n"
     ]
    }
   ],
   "source": [
    "class data:\n",
    "    def __init__(self):\n",
    "        self.name = input(\"enter name = \")\n",
    "        self.age = int(input(\"enter age = \"))\n",
    "        self.add = input(\"enter address = \")\n",
    "        \n",
    "class info(data):\n",
    "    def info(self):\n",
    "        print(f\"Hello world I am {self.name}. I am from {self.add}. I am {self.age}\")\n",
    "        \n",
    "obj =info()\n",
    "obj.info()"
   ]
  },
  {
   "cell_type": "code",
   "execution_count": 6,
   "id": "f82d8a88",
   "metadata": {},
   "outputs": [
    {
     "name": "stdout",
     "output_type": "stream",
     "text": [
      "enter name = Ram\n",
      "enter age = 50\n",
      "enter address = Kathmandu\n",
      "Hello world I am Ram. I am from Kathmandu. I am 50\n"
     ]
    }
   ],
   "source": [
    "class data:\n",
    "    def __init__(self,name,age,add):\n",
    "        self.name = name\n",
    "        self.age = age\n",
    "        self.add = add\n",
    "        \n",
    "class info(data):\n",
    "    def info(self):\n",
    "        print(f\"Hello world I am {self.name}. I am from {self.add}. I am {self.age}\")\n",
    "        \n",
    "        \n",
    "name = input(\"enter name = \")\n",
    "age = int(input(\"enter age = \"))\n",
    "add = input(\"enter address = \")\n",
    "\n",
    "obj =info(name,age,add)\n",
    "obj.info()"
   ]
  },
  {
   "cell_type": "code",
   "execution_count": 16,
   "id": "eeea13cd",
   "metadata": {},
   "outputs": [
    {
     "name": "stdout",
     "output_type": "stream",
     "text": [
      "enter name = Ram\n",
      "enter age = 23\n",
      "enter address = Ra\n",
      "Hello world I am Ram. I am from Ra. I am 23\n"
     ]
    }
   ],
   "source": [
    "class address:\n",
    "    def __init__(self,add):\n",
    "        self.add = add\n",
    "\n",
    "class Data(address):\n",
    "    def __init__(self,age,add):\n",
    "        self.age = age\n",
    "        address.__init__(self,add)\n",
    "    def data(self):\n",
    "        print(self.add,self.age)\n",
    "        \n",
    "class Info(Data):\n",
    "    def __init__(self,name,age,add):\n",
    "        self.name = name\n",
    "        Data.__init__(self,age,add)\n",
    "        \n",
    "    def info(self):\n",
    "        print(f\"Hello world I am {self.name}. I am from {self.add}. I am {self.age}\")\n",
    "        \n",
    "        \n",
    "name = input(\"enter name = \")\n",
    "age = int(input(\"enter age = \"))\n",
    "add = input(\"enter address = \")\n",
    "\n",
    "obj =Info(name,age,add)\n",
    "obj.info()"
   ]
  },
  {
   "cell_type": "code",
   "execution_count": 8,
   "id": "b9fda673",
   "metadata": {},
   "outputs": [
    {
     "ename": "NameError",
     "evalue": "name 'c' is not defined",
     "output_type": "error",
     "traceback": [
      "\u001b[1;31m---------------------------------------------------------------------------\u001b[0m",
      "\u001b[1;31mNameError\u001b[0m                                 Traceback (most recent call last)",
      "\u001b[1;32m~\\AppData\\Local\\Temp\\ipykernel_12912\\3485972975.py\u001b[0m in \u001b[0;36m<module>\u001b[1;34m\u001b[0m\n\u001b[0;32m     12\u001b[0m \u001b[1;33m\u001b[0m\u001b[0m\n\u001b[0;32m     13\u001b[0m \u001b[1;33m\u001b[0m\u001b[0m\n\u001b[1;32m---> 14\u001b[1;33m \u001b[0mobj\u001b[0m \u001b[1;33m=\u001b[0m \u001b[0mc\u001b[0m\u001b[1;33m(\u001b[0m\u001b[1;33m)\u001b[0m\u001b[1;33m\u001b[0m\u001b[1;33m\u001b[0m\u001b[0m\n\u001b[0m",
      "\u001b[1;31mNameError\u001b[0m: name 'c' is not defined"
     ]
    }
   ],
   "source": [
    "#Multilavel\n",
    "\n",
    "class A:\n",
    "    pass\n",
    "\n",
    "class B(A):\n",
    "    pass\n",
    "\n",
    "\n",
    "class C(B):\n",
    "    pass\n",
    "\n",
    "\n",
    "obj = c()"
   ]
  },
  {
   "cell_type": "code",
   "execution_count": null,
   "id": "6f64b39f",
   "metadata": {},
   "outputs": [],
   "source": [
    "#Multilavel\n",
    "\n",
    "class A:\n",
    "    pass\n",
    "\n",
    "class B:\n",
    "    pass\n",
    "\n",
    "\n",
    "class C(A,B):\n",
    "    pass\n",
    "\n",
    "\n",
    "obj = c()"
   ]
  },
  {
   "cell_type": "code",
   "execution_count": null,
   "id": "5f627a9f",
   "metadata": {},
   "outputs": [],
   "source": [
    "class address:\n",
    "    def __init__(self,add):\n",
    "        self.add = add\n",
    "\n",
    "class Data(address):\n",
    "    def __init__(self,age,add):\n",
    "        self.age = age\n",
    "        address.__init__(self,add)\n",
    "    def data(self):\n",
    "        print(self.add,self.age)\n",
    "        \n",
    "class Info(Data):\n",
    "    def __init__(self,name,age,add):\n",
    "        self.name = name\n",
    "        Data.__init__(self,age,add)\n",
    "        \n",
    "    def info(self):\n",
    "        print(f\"Hello world I am {self.name}. I am from {self.add}. I am {self.age}\")\n",
    "        \n",
    "        \n",
    "name = input(\"enter name = \")\n",
    "age = int(input(\"enter age = \"))\n",
    "add = input(\"enter address = \")\n",
    "\n",
    "obj =Info(name,age,add)\n",
    "obj.info()\n"
   ]
  },
  {
   "cell_type": "code",
   "execution_count": null,
   "id": "ccfae121",
   "metadata": {},
   "outputs": [],
   "source": []
  }
 ],
 "metadata": {
  "kernelspec": {
   "display_name": "Python 3 (ipykernel)",
   "language": "python",
   "name": "python3"
  },
  "language_info": {
   "codemirror_mode": {
    "name": "ipython",
    "version": 3
   },
   "file_extension": ".py",
   "mimetype": "text/x-python",
   "name": "python",
   "nbconvert_exporter": "python",
   "pygments_lexer": "ipython3",
   "version": "3.9.13"
  }
 },
 "nbformat": 4,
 "nbformat_minor": 5
}
