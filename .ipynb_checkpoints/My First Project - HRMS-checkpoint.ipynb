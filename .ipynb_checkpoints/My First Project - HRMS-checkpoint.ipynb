{
 "cells": [
  {
   "cell_type": "code",
   "execution_count": null,
   "id": "cd664858",
   "metadata": {},
   "outputs": [],
   "source": [
    "# HRMS System for real world scenario"
   ]
  },
  {
   "cell_type": "code",
   "execution_count": 1,
   "id": "5c13cc4c",
   "metadata": {},
   "outputs": [
    {
     "name": "stdout",
     "output_type": "stream",
     "text": [
      "Defaulting to user installation because normal site-packages is not writeable\n",
      "Requirement already satisfied: mysql-connector in c:\\users\\gour\\appdata\\roaming\\python\\python39\\site-packages (2.2.9)\n"
     ]
    }
   ],
   "source": [
    "!pip install mysql-connector"
   ]
  },
  {
   "cell_type": "code",
   "execution_count": 2,
   "id": "6c04a4a9",
   "metadata": {},
   "outputs": [],
   "source": [
    "import mysql.connector  #importing database\n",
    "database = mysql.connector.connect(\n",
    "    host=\"localhost\",\n",
    "    user=\"root\",\n",
    "    password=\"\",\n",
    "    database = \"project_hrms\"\n",
    ")\n",
    "db = database.cursor()"
   ]
  },
  {
   "cell_type": "code",
   "execution_count": 5,
   "id": "6af43805",
   "metadata": {},
   "outputs": [
    {
     "data": {
      "text/plain": [
       "[('2022-12-11 13:41:22.',\n",
       "  1,\n",
       "  'Gour',\n",
       "  'Kishore ',\n",
       "  'dey',\n",
       "  datetime.date(2022, 12, 1),\n",
       "  'Male',\n",
       "  'gour@gmail.com',\n",
       "  '210',\n",
       "  'GD'),\n",
       " ('2022-12-11 13:40:59.',\n",
       "  2,\n",
       "  'Abdesh',\n",
       "  'Kumar',\n",
       "  'pradhan',\n",
       "  datetime.date(2018, 12, 12),\n",
       "  'Female',\n",
       "  'abdesh@gmail.in',\n",
       "  '66522',\n",
       "  'AD'),\n",
       " ('0000-00-00 00:00:00.',\n",
       "  3,\n",
       "  'ROhesh',\n",
       "  '',\n",
       "  'Shreastha',\n",
       "  datetime.date(2022, 12, 15),\n",
       "  'Male',\n",
       "  'rohesh@gmail.com',\n",
       "  '983248622',\n",
       "  'RS'),\n",
       " ('Okay',\n",
       "  5,\n",
       "  'Hari',\n",
       "  'Kumar',\n",
       "  'Bose',\n",
       "  datetime.date(2022, 12, 6),\n",
       "  'Male',\n",
       "  'hari@gmail.com',\n",
       "  '8756485423',\n",
       "  'HB')]"
      ]
     },
     "execution_count": 5,
     "metadata": {},
     "output_type": "execute_result"
    }
   ],
   "source": [
    "db.execute(\"SELECT * FROM employee_basic_details\")\n",
    "result = db.fetchall()\n",
    "# for x in result:\n",
    "#     print(x)\n",
    "result"
   ]
  },
  {
   "cell_type": "code",
   "execution_count": null,
   "id": "83af00a4",
   "metadata": {},
   "outputs": [],
   "source": [
    "sr_no = int(input(\"Enter serial no = \"))\n",
    "first_name = input(\"Enter employee First name = \")\n",
    "middle_name = input(\"Enter employee middle name = \")\n",
    "last_name = input(\"Enter employee last name = \")\n",
    "date_of_birth = input(\"Enter DOB of an employee (YYYY-MM-DD format) = \")\n",
    "gender = input(\"Enter gender an employee = \")\n",
    "email_id = input(\"Enter email ID = \")\n",
    "phone_no = input(\"Enter phone no of an employee = \")\n",
    "alias = input(\"Enter alias  = \")\n",
    "\n",
    "import datetime\n",
    "\n",
    "e = datetime.datetime.now()\n",
    "time = e.strftime(\"%Y-%m-%d %H:%M:%S\")\n",
    "\n",
    "print(time)\n",
    "\n",
    "\n",
    "sql = f'''INSERT INTO 'employee_basic_details' ('first_name', 'middle_name', 'last_name', 'date_of_birth', 'gender', 'email_id', 'phone_no', 'alias') \n",
    "VALUES ('{first_name}', '{middle_name}', '{last_name}', {date_of_birth}, '{gender}', '{email_id}', '{phone_no}', '{alias}');'''\n",
    "db.execute(sql)\n",
    "database.commit()\n",
    "print(sql)"
   ]
  },
  {
   "cell_type": "code",
   "execution_count": 41,
   "id": "046be0c0",
   "metadata": {},
   "outputs": [
    {
     "name": "stdout",
     "output_type": "stream",
     "text": [
      "2022-12-11 16:38:58\n"
     ]
    }
   ],
   "source": [
    "import datetime\n",
    "\n",
    "e = datetime.datetime.now()\n",
    "time = e.strftime(\"%Y-%m-%d %H:%M:%S\")\n",
    "\n",
    "print(time)"
   ]
  },
  {
   "cell_type": "code",
   "execution_count": null,
   "id": "de6fd341",
   "metadata": {},
   "outputs": [],
   "source": []
  }
 ],
 "metadata": {
  "kernelspec": {
   "display_name": "Python 3 (ipykernel)",
   "language": "python",
   "name": "python3"
  },
  "language_info": {
   "codemirror_mode": {
    "name": "ipython",
    "version": 3
   },
   "file_extension": ".py",
   "mimetype": "text/x-python",
   "name": "python",
   "nbconvert_exporter": "python",
   "pygments_lexer": "ipython3",
   "version": "3.9.13"
  }
 },
 "nbformat": 4,
 "nbformat_minor": 5
}
