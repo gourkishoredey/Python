{
 "cells": [
  {
   "cell_type": "code",
   "execution_count": null,
   "id": "1cde6d2a",
   "metadata": {},
   "outputs": [],
   "source": [
    "# class <class name>:\n",
    "#     <operation>\n",
    "    \n",
    "# obj = <class_name>()\n",
    "\n",
    "\n",
    "# class Python:\n",
    "#     pass\n",
    "\n",
    "# # After class first letter has to be in capital letter.\n",
    "\n"
   ]
  },
  {
   "cell_type": "code",
   "execution_count": 1,
   "id": "b6f6fb51",
   "metadata": {},
   "outputs": [
    {
     "name": "stdout",
     "output_type": "stream",
     "text": [
      "Hello World\n"
     ]
    }
   ],
   "source": [
    "class Hello:                            #Class\n",
    "    print(\"Hello World\")\n",
    "    \n",
    "obj = Hello()                           #Object\n"
   ]
  },
  {
   "cell_type": "code",
   "execution_count": 6,
   "id": "6fb6dbce",
   "metadata": {},
   "outputs": [
    {
     "name": "stdout",
     "output_type": "stream",
     "text": [
      "Hello World\n"
     ]
    }
   ],
   "source": [
    "class Hello:                              #Class\n",
    "    def hello(self):                      #Method\n",
    "        print(\"Hello World\")\n",
    "    \n",
    "    \n",
    "obj = Hello()                              #object\n",
    "obj.hello()"
   ]
  },
  {
   "cell_type": "code",
   "execution_count": 10,
   "id": "f3e8e50f",
   "metadata": {},
   "outputs": [
    {
     "name": "stdout",
     "output_type": "stream",
     "text": [
      "Hello World\n"
     ]
    }
   ],
   "source": [
    "class Hello:                            #Class\n",
    "    @staticmethod\n",
    "    def hello():                        #method\n",
    "        print(\"Hello World\")\n",
    "    \n",
    "    \n",
    "obj = Hello()                           #object\n",
    "obj.hello()"
   ]
  },
  {
   "cell_type": "code",
   "execution_count": 18,
   "id": "b3574f92",
   "metadata": {},
   "outputs": [
    {
     "ename": "TypeError",
     "evalue": "area() takes 0 positional arguments but 1 was given",
     "output_type": "error",
     "traceback": [
      "\u001b[1;31m---------------------------------------------------------------------------\u001b[0m",
      "\u001b[1;31mTypeError\u001b[0m                                 Traceback (most recent call last)",
      "\u001b[1;32m~\\AppData\\Local\\Temp\\ipykernel_11424\\798845168.py\u001b[0m in \u001b[0;36m<module>\u001b[1;34m\u001b[0m\n\u001b[0;32m      6\u001b[0m \u001b[1;33m\u001b[0m\u001b[0m\n\u001b[0;32m      7\u001b[0m \u001b[0mobj\u001b[0m \u001b[1;33m=\u001b[0m \u001b[0mCal\u001b[0m\u001b[1;33m(\u001b[0m\u001b[1;33m)\u001b[0m\u001b[1;33m\u001b[0m\u001b[1;33m\u001b[0m\u001b[0m\n\u001b[1;32m----> 8\u001b[1;33m \u001b[0mobj\u001b[0m\u001b[1;33m.\u001b[0m\u001b[0marea\u001b[0m\u001b[1;33m(\u001b[0m\u001b[1;33m)\u001b[0m\u001b[1;33m\u001b[0m\u001b[1;33m\u001b[0m\u001b[0m\n\u001b[0m\u001b[0;32m      9\u001b[0m \u001b[0mobj\u001b[0m\u001b[1;33m.\u001b[0m\u001b[0mvolume\u001b[0m\u001b[1;33m(\u001b[0m\u001b[1;33m)\u001b[0m\u001b[1;33m\u001b[0m\u001b[1;33m\u001b[0m\u001b[0m\n",
      "\u001b[1;31mTypeError\u001b[0m: area() takes 0 positional arguments but 1 was given"
     ]
    }
   ],
   "source": [
    "class Cal:\n",
    "    def area():\n",
    "        pass\n",
    "    def volume():\n",
    "        pass\n",
    "    \n",
    "obj = Cal()\n",
    "obj.area()\n",
    "obj.volume()"
   ]
  },
  {
   "cell_type": "code",
   "execution_count": 23,
   "id": "4974a166",
   "metadata": {},
   "outputs": [
    {
     "name": "stdout",
     "output_type": "stream",
     "text": [
      "50\n",
      "66\n"
     ]
    }
   ],
   "source": [
    "class Cal:\n",
    "    @staticmethod\n",
    "    def area():\n",
    "        l = 10\n",
    "        b = 5\n",
    "        a =l*b\n",
    "        print(a)\n",
    "    \n",
    "    @staticmethod\n",
    "    def volume():\n",
    "        l = 11\n",
    "        b = 3\n",
    "        h = 2\n",
    "        v = l*b*h\n",
    "        print(v)\n",
    "    \n",
    "obj = Cal()\n",
    "obj.area()\n",
    "obj.volume()"
   ]
  },
  {
   "cell_type": "code",
   "execution_count": 24,
   "id": "0bd65166",
   "metadata": {},
   "outputs": [
    {
     "name": "stdout",
     "output_type": "stream",
     "text": [
      "50\n",
      "66\n"
     ]
    }
   ],
   "source": [
    "class Cal:\n",
    "    def area(self):\n",
    "        l = 10\n",
    "        b = 5\n",
    "        a =l*b\n",
    "        print(a)\n",
    "    \n",
    "    def volume(self):\n",
    "        l = 11\n",
    "        b = 3\n",
    "        h = 2\n",
    "        v = l*b*h\n",
    "        print(v)\n",
    "    \n",
    "obj = Cal()\n",
    "obj.area()\n",
    "obj.volume()"
   ]
  },
  {
   "cell_type": "code",
   "execution_count": 27,
   "id": "f21059e2",
   "metadata": {},
   "outputs": [
    {
     "name": "stdout",
     "output_type": "stream",
     "text": [
      "50\n",
      "100\n"
     ]
    }
   ],
   "source": [
    "class Cal:\n",
    "    def area(self,l,b):\n",
    "        a =l*b\n",
    "        print(a)\n",
    "    \n",
    "    def volume(self,l,b,h):\n",
    "        v = l*b*h\n",
    "        print(v)\n",
    "\n",
    "l = 10\n",
    "b = 5\n",
    "h = 2\n",
    "\n",
    "obj = Cal()\n",
    "obj.area(l,b)\n",
    "obj.volume(l,b,h)"
   ]
  },
  {
   "cell_type": "code",
   "execution_count": 30,
   "id": "ae965830",
   "metadata": {},
   "outputs": [
    {
     "name": "stdout",
     "output_type": "stream",
     "text": [
      "Enter length = 30\n",
      "Enter b = 15\n",
      "Enter hight = 3\n",
      "450\n",
      "1350\n"
     ]
    }
   ],
   "source": [
    "# Initilazation inside class and define extra control will work only inside the class.\n",
    "class Cal:\n",
    "    def __init__(self,l,b,h):\n",
    "        \n",
    "        self.x=l\n",
    "        self.y=b\n",
    "        self.z=h\n",
    "        \n",
    "    def area(self):\n",
    "        a =self.x*self.y\n",
    "        print(a)\n",
    "    \n",
    "    def volume(self):\n",
    "        v = self.x*self.y*self.z\n",
    "        print(v)\n",
    "\n",
    "l = int(input(\"Enter length = \"))\n",
    "b = int(input(\"Enter b = \"))\n",
    "h = int(input(\"Enter hight = \"))\n",
    "\n",
    "obj = Cal(l,b,h)\n",
    "obj.area()\n",
    "obj.volume()"
   ]
  },
  {
   "cell_type": "code",
   "execution_count": 34,
   "id": "ae3bf2c5",
   "metadata": {},
   "outputs": [
    {
     "name": "stdout",
     "output_type": "stream",
     "text": [
      "Enter l = 30\n",
      "Enter b = 25\n",
      "ENter h = 4\n",
      "750\n",
      "3000\n",
      "30 25 4\n"
     ]
    }
   ],
   "source": [
    "# Initilazation inside class and define extra control will work only inside the class.\n",
    "class Cal:\n",
    "    def __init__(self,l,b,h):\n",
    "        \n",
    "        self.x=int(input(\"Enter l = \"))\n",
    "        self.y=int(input(\"Enter b = \"))\n",
    "        self.z=int(input(\"ENter h = \"))\n",
    "        \n",
    "    def area(self):\n",
    "        a =self.x*self.y\n",
    "        print(a)\n",
    "    \n",
    "    def volume(self):\n",
    "        v = self.x*self.y*self.z\n",
    "        print(v)\n",
    "\n",
    "obj = Cal(l,b,h)\n",
    "obj.area()\n",
    "obj.volume()\n",
    "print(obj.x,obj.y,obj.z)"
   ]
  }
 ],
 "metadata": {
  "kernelspec": {
   "display_name": "Python 3 (ipykernel)",
   "language": "python",
   "name": "python3"
  },
  "language_info": {
   "codemirror_mode": {
    "name": "ipython",
    "version": 3
   },
   "file_extension": ".py",
   "mimetype": "text/x-python",
   "name": "python",
   "nbconvert_exporter": "python",
   "pygments_lexer": "ipython3",
   "version": "3.9.13"
  }
 },
 "nbformat": 4,
 "nbformat_minor": 5
}
