{
 "cells": [
  {
   "cell_type": "code",
   "execution_count": null,
   "id": "e1305c06",
   "metadata": {},
   "outputs": [],
   "source": [
    "# set\n",
    "# - No indexing\n",
    "# - No duplicate data\n",
    "# - Unordered\n",
    "# - Mutable"
   ]
  },
  {
   "cell_type": "code",
   "execution_count": 2,
   "id": "e11c8823",
   "metadata": {},
   "outputs": [
    {
     "data": {
      "text/plain": [
       "set"
      ]
     },
     "execution_count": 2,
     "metadata": {},
     "output_type": "execute_result"
    }
   ],
   "source": [
    "s = {1}\n",
    "type(s)"
   ]
  },
  {
   "cell_type": "code",
   "execution_count": 14,
   "id": "89c835e9",
   "metadata": {},
   "outputs": [
    {
     "name": "stdout",
     "output_type": "stream",
     "text": [
      "{'Fish', 'Cat', 'Dog', 'Ball', 'Apple'}\n"
     ]
    }
   ],
   "source": [
    "s = set()\n",
    "s= {\"Apple\",\"Ball\",\"Cat\",\"Fish\",\"Dog\"}\n",
    "print(s)"
   ]
  },
  {
   "cell_type": "code",
   "execution_count": 15,
   "id": "f7a49b0f",
   "metadata": {},
   "outputs": [
    {
     "name": "stdout",
     "output_type": "stream",
     "text": [
      "{'Fish', 'Cat', 'Dog', 'Ball', 'Apple'}\n"
     ]
    }
   ],
   "source": [
    "print(s)"
   ]
  },
  {
   "cell_type": "code",
   "execution_count": 16,
   "id": "c04ab81b",
   "metadata": {},
   "outputs": [
    {
     "name": "stdout",
     "output_type": "stream",
     "text": [
      "{'Fish', 562, 'Cat', 'Dog', 'Ball', 'Apple'}\n"
     ]
    }
   ],
   "source": [
    "s= {\"Apple\",\"Ball\",\"Cat\",\"Fish\",\"Dog\",562}\n",
    "print(s)"
   ]
  },
  {
   "cell_type": "code",
   "execution_count": 19,
   "id": "a89eb367",
   "metadata": {},
   "outputs": [
    {
     "name": "stdout",
     "output_type": "stream",
     "text": [
      "{'cat', 'ball', 'Apple'}\n"
     ]
    },
    {
     "data": {
      "text/plain": [
       "{'Apple', 'ball', 'cat'}"
      ]
     },
     "execution_count": 19,
     "metadata": {},
     "output_type": "execute_result"
    }
   ],
   "source": [
    "s = set()\n",
    "s.add('Apple')\n",
    "s.add(\"ball\")\n",
    "s.add(\"cat\")\n",
    "print(s)\n",
    "s"
   ]
  },
  {
   "cell_type": "code",
   "execution_count": 22,
   "id": "c6e647f3",
   "metadata": {},
   "outputs": [
    {
     "name": "stdout",
     "output_type": "stream",
     "text": [
      "['Fish', 'Cat', 'Dog', 'Apple', 'Ball']\n"
     ]
    }
   ],
   "source": [
    "s= [\"Apple\",\"Ball\",\"Cat\",\"Fish\",\"Dog\",\"Apple\",\"Ball\",\"Cat\",\"Fish\",\"Dog\",\"Apple\",\"Ball\",\"Cat\",\"Fish\",\"Dog\"]\n",
    "s =list(set(s))\n",
    "print(s)"
   ]
  },
  {
   "cell_type": "code",
   "execution_count": 24,
   "id": "5c241051",
   "metadata": {},
   "outputs": [
    {
     "name": "stdout",
     "output_type": "stream",
     "text": [
      "{'Ball', 'Cat'}\n"
     ]
    }
   ],
   "source": [
    "s = {'Apple','Ball','Cat'}\n",
    "s.remove('Apple')\n",
    "print(s)"
   ]
  },
  {
   "cell_type": "code",
   "execution_count": null,
   "id": "9e627f37",
   "metadata": {},
   "outputs": [],
   "source": [
    "# No + *"
   ]
  },
  {
   "cell_type": "code",
   "execution_count": 34,
   "id": "57432974",
   "metadata": {},
   "outputs": [
    {
     "name": "stdout",
     "output_type": "stream",
     "text": [
      "{'Hari', 'Mike'}\n",
      "{'Jhon', 'Bill', 'Sarita', 'Jobs', 'Hari', 'Mike', 'Shayam', 'Nabin', 'Madhu', 'Ram'}\n",
      "{'Jhon', 'Bill', 'Sarita', 'Jobs', 'Hari', 'xyz', 'Mike', 'Shayam', 'Nabin', 'Madhu', 'Ram'}\n"
     ]
    }
   ],
   "source": [
    "# Intersection() Union() Difference()\n",
    "\n",
    "U = {'Jhon', 'Bill', 'Sarita', 'Jobs', 'Hari', 'Mike', 'Shayam', 'Nabin', 'Madhu', 'Ram',\"xyz\"}\n",
    "ms = {\"Ram\",\"Shayam\",\"Hari\",\"Madhu\",\"Bill\",\"Jhon\",\"Mike\"}\n",
    "apple = {\"Jobs\",\"Nabin\",\"Hari\",\"Mike\",\"Sarita\"}\n",
    "print(ms.intersection(apple))\n",
    "print(ms.union(apple))\n",
    "print(U)"
   ]
  },
  {
   "cell_type": "code",
   "execution_count": 29,
   "id": "0df2e275",
   "metadata": {},
   "outputs": [
    {
     "name": "stdout",
     "output_type": "stream",
     "text": [
      "{'Sarita', 'Jobs', 'Nabin'}\n",
      "{'Jhon', 'Bill', 'Shayam', 'Madhu', 'Ram'}\n"
     ]
    }
   ],
   "source": [
    "print(apple-ms)\n",
    "print(ms-apple)"
   ]
  },
  {
   "cell_type": "code",
   "execution_count": 36,
   "id": "00150fdc",
   "metadata": {},
   "outputs": [
    {
     "data": {
      "text/plain": [
       "{'xyz'}"
      ]
     },
     "execution_count": 36,
     "metadata": {},
     "output_type": "execute_result"
    }
   ],
   "source": [
    "u =  {'Jhon', 'Bill', 'Sarita', 'Jobs', 'Hari', 'Mike', 'Shayam', 'Nabin', 'Madhu', 'Ram',\"xyz\"}\n",
    "u - ms.union(apple)\n"
   ]
  },
  {
   "cell_type": "code",
   "execution_count": null,
   "id": "37e1183e",
   "metadata": {},
   "outputs": [],
   "source": []
  },
  {
   "cell_type": "code",
   "execution_count": null,
   "id": "a3e5558f",
   "metadata": {},
   "outputs": [],
   "source": []
  },
  {
   "cell_type": "code",
   "execution_count": null,
   "id": "6c636760",
   "metadata": {},
   "outputs": [],
   "source": []
  },
  {
   "cell_type": "code",
   "execution_count": null,
   "id": "ae7b6988",
   "metadata": {},
   "outputs": [],
   "source": []
  },
  {
   "cell_type": "code",
   "execution_count": null,
   "id": "1482a5dd",
   "metadata": {},
   "outputs": [],
   "source": []
  },
  {
   "cell_type": "code",
   "execution_count": null,
   "id": "1ef74e96",
   "metadata": {},
   "outputs": [],
   "source": []
  }
 ],
 "metadata": {
  "kernelspec": {
   "display_name": "Python 3 (ipykernel)",
   "language": "python",
   "name": "python3"
  },
  "language_info": {
   "codemirror_mode": {
    "name": "ipython",
    "version": 3
   },
   "file_extension": ".py",
   "mimetype": "text/x-python",
   "name": "python",
   "nbconvert_exporter": "python",
   "pygments_lexer": "ipython3",
   "version": "3.9.13"
  }
 },
 "nbformat": 4,
 "nbformat_minor": 5
}
