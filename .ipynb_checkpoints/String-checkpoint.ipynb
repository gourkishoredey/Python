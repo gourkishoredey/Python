{
 "cells": [
  {
   "cell_type": "code",
   "execution_count": 2,
   "id": "9f466e25",
   "metadata": {},
   "outputs": [
    {
     "name": "stdout",
     "output_type": "stream",
     "text": [
      "Hello World\n",
      "Hello world\n",
      "Hello World\n",
      "Hello World Hello world Hello World\n",
      "<class 'str'> <class 'str'> <class 'str'>\n"
     ]
    }
   ],
   "source": [
    "a= \"Hello World\"\n",
    "b= 'Hello world'\n",
    "c= '''Hello World'''\n",
    "print(a)\n",
    "print(b)\n",
    "print(c)\n",
    "print(a,b,c)\n",
    "print(type(a),type(b),type(c))"
   ]
  },
  {
   "cell_type": "code",
   "execution_count": 4,
   "id": "b226fa70",
   "metadata": {},
   "outputs": [
    {
     "name": "stdout",
     "output_type": "stream",
     "text": [
      "Hello World\n"
     ]
    }
   ],
   "source": [
    "a=\"Hello \"\n",
    "b='World'\n",
    "c= a+b\n",
    "print(c)"
   ]
  },
  {
   "cell_type": "code",
   "execution_count": 6,
   "id": "83798212",
   "metadata": {},
   "outputs": [
    {
     "name": "stdout",
     "output_type": "stream",
     "text": [
      "Hello World\n",
      "Hello World\n",
      "Hello World\n",
      "\n"
     ]
    }
   ],
   "source": [
    "a=\"Hello World\\n\"\n",
    "print(a*3)"
   ]
  },
  {
   "cell_type": "code",
   "execution_count": 7,
   "id": "291c7214",
   "metadata": {},
   "outputs": [
    {
     "name": "stdout",
     "output_type": "stream",
     "text": [
      "ENter name = Ram\n"
     ]
    }
   ],
   "source": [
    "name = input(\"ENter name = \")\n"
   ]
  },
  {
   "cell_type": "code",
   "execution_count": 10,
   "id": "b9a7e4ea",
   "metadata": {},
   "outputs": [
    {
     "name": "stdout",
     "output_type": "stream",
     "text": [
      "H\n",
      "Hello\n",
      "Hlowr\n"
     ]
    }
   ],
   "source": [
    "a= \"Hello world I am python\"\n",
    "print(a[0])\n",
    "print(a[0:5])\n",
    "print(a[0:10:2])"
   ]
  },
  {
   "cell_type": "code",
   "execution_count": 12,
   "id": "9f6d9d07",
   "metadata": {},
   "outputs": [
    {
     "name": "stdout",
     "output_type": "stream",
     "text": [
      "nohtyp ma I dlrow olleH\n",
      "nohtyp ma I dlrow olleH\n"
     ]
    }
   ],
   "source": [
    "a= \"Hello world I am python\"\n",
    "print(a[-1::-1])\n",
    "print(a[::-1])"
   ]
  },
  {
   "cell_type": "code",
   "execution_count": 15,
   "id": "95c6b28a",
   "metadata": {},
   "outputs": [
    {
     "name": "stdout",
     "output_type": "stream",
     "text": [
      "Enter first value = 3562485\n",
      "The number is not pelendrome\n"
     ]
    }
   ],
   "source": [
    "a = input(\"Enter first value = \")\n",
    "\n",
    "if a ==a[::-1]:\n",
    "    print(\"The number is pelendrome\")\n",
    "else:\n",
    "    print(\"The number is not pelendrome\")\n",
    "\n"
   ]
  },
  {
   "cell_type": "code",
   "execution_count": 19,
   "id": "96184a06",
   "metadata": {},
   "outputs": [
    {
     "name": "stdout",
     "output_type": "stream",
     "text": [
      "Hello World I am Ram I am 23\n"
     ]
    }
   ],
   "source": [
    "# String formatting\n",
    "name = \"Ram\"\n",
    "age = 23\n",
    "info = \"Hello World I am \"+ name +\" I am \"+str(age)\n",
    "print(info)"
   ]
  },
  {
   "cell_type": "code",
   "execution_count": 20,
   "id": "7f4d9aec",
   "metadata": {},
   "outputs": [
    {
     "name": "stdout",
     "output_type": "stream",
     "text": [
      "Hello World I am Ram I am 23\n"
     ]
    }
   ],
   "source": [
    "# String formatting\n",
    "# F has to be there in string formatting. \n",
    "name = \"Ram\"\n",
    "age = 23\n",
    "info = f\"Hello World I am {name} I am {age}\"\n",
    "print(info)"
   ]
  },
  {
   "cell_type": "code",
   "execution_count": 23,
   "id": "663b1ead",
   "metadata": {},
   "outputs": [
    {
     "name": "stdout",
     "output_type": "stream",
     "text": [
      "enter your name Ram\n",
      "enter age23\n",
      "Hello World I am Ram I am 23\n"
     ]
    }
   ],
   "source": [
    "# String formatting\n",
    "# name = \"Ram\"\n",
    "# age = 23\n",
    "info = f\"Hello World I am {input('enter your name ')} I am {input('enter age')}\"\n",
    "print(info)"
   ]
  },
  {
   "cell_type": "code",
   "execution_count": 30,
   "id": "e060e649",
   "metadata": {},
   "outputs": [
    {
     "name": "stdout",
     "output_type": "stream",
     "text": [
      "Enter n 3\n",
      "Enter name = Ram\n",
      "Enter name = Sita\n",
      "Enter name = Ram\n",
      "RamSitaRam\n"
     ]
    }
   ],
   "source": [
    "s = str()\n",
    "n = int(input(\"Enter n \"))\n",
    "for i in range(n):\n",
    "    name = input(\"Enter name = \")\n",
    "    s = s+f\"{name}\"\n",
    "print(s)\n",
    "    \n"
   ]
  },
  {
   "cell_type": "code",
   "execution_count": 32,
   "id": "74969dc4",
   "metadata": {},
   "outputs": [
    {
     "name": "stdout",
     "output_type": "stream",
     "text": [
      "ENter name =Gour\n"
     ]
    }
   ],
   "source": [
    "name = input(\"ENter name =\")\n"
   ]
  },
  {
   "cell_type": "code",
   "execution_count": 37,
   "id": "7df29db0",
   "metadata": {},
   "outputs": [
    {
     "name": "stdout",
     "output_type": "stream",
     "text": [
      "ram shyam sita hari rita\n",
      "RAM SHYAM SITA HARI RITA\n",
      "Ram Shyam Sita Hari Rita\n"
     ]
    }
   ],
   "source": [
    "a = \"Ram Shyam Sita Hari Rita\"\n",
    "print(a.lower())\n",
    "print(a.upper())\n",
    "print(a)"
   ]
  },
  {
   "cell_type": "code",
   "execution_count": null,
   "id": "04032941",
   "metadata": {},
   "outputs": [],
   "source": [
    " "
   ]
  },
  {
   "cell_type": "code",
   "execution_count": 40,
   "id": "e06486f0",
   "metadata": {},
   "outputs": [
    {
     "name": "stdout",
     "output_type": "stream",
     "text": [
      "ram Shyam Sita Hari Rita\n"
     ]
    }
   ],
   "source": [
    "# replace\n",
    "a = \"Ram Shyam Sita Hari Rita\"\n",
    "a = a.replace('Ram','ram')\n",
    "print(a)\n"
   ]
  },
  {
   "cell_type": "code",
   "execution_count": 45,
   "id": "122657e3",
   "metadata": {},
   "outputs": [
    {
     "name": "stdout",
     "output_type": "stream",
     "text": [
      "ram shyam sita hari rita ram\n"
     ]
    }
   ],
   "source": [
    "a = \"Ram Shyam Sita Hari Rita Ram\"\n",
    "a[0:-3]+\"Rama\"\n",
    "print(a.lower())"
   ]
  },
  {
   "cell_type": "code",
   "execution_count": 46,
   "id": "c969d672",
   "metadata": {},
   "outputs": [
    {
     "name": "stdout",
     "output_type": "stream",
     "text": [
      " Shyam Sita Hari Rita\n"
     ]
    }
   ],
   "source": [
    "# replace\n",
    "a = \"Ram Shyam Sita Hari Rita\"\n",
    "a = a.replace('Ram','')\n",
    "print(a)"
   ]
  },
  {
   "cell_type": "code",
   "execution_count": 47,
   "id": "2772c941",
   "metadata": {},
   "outputs": [
    {
     "name": "stdout",
     "output_type": "stream",
     "text": [
      "['Ram', 'Shyam', 'Sita', 'Hari', 'Rita']\n"
     ]
    }
   ],
   "source": [
    "a = \"Ram Shyam Sita Hari Rita\"\n",
    "print(a.split())"
   ]
  }
 ],
 "metadata": {
  "kernelspec": {
   "display_name": "Python 3 (ipykernel)",
   "language": "python",
   "name": "python3"
  },
  "language_info": {
   "codemirror_mode": {
    "name": "ipython",
    "version": 3
   },
   "file_extension": ".py",
   "mimetype": "text/x-python",
   "name": "python",
   "nbconvert_exporter": "python",
   "pygments_lexer": "ipython3",
   "version": "3.9.13"
  }
 },
 "nbformat": 4,
 "nbformat_minor": 5
}
