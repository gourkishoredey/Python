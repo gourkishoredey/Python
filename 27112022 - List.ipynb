{
 "cells": [
  {
   "cell_type": "code",
   "execution_count": null,
   "id": "d84cd7a9",
   "metadata": {},
   "outputs": [],
   "source": [
    "#Python Collection\n",
    "#- List\n",
    "#- Tuple\n",
    "#- Dictionary\n",
    "#- Set"
   ]
  },
  {
   "cell_type": "code",
   "execution_count": null,
   "id": "f74b24f0",
   "metadata": {},
   "outputs": [],
   "source": [
    "#- List\n",
    "#- Indexing\n",
    "#- Ordered\n",
    "#- Set\n",
    "# - Multiple and Diplicate Data\n",
    "# Mutable"
   ]
  },
  {
   "cell_type": "code",
   "execution_count": 1,
   "id": "8791ae0f",
   "metadata": {},
   "outputs": [
    {
     "name": "stdout",
     "output_type": "stream",
     "text": [
      "<class 'list'>\n",
      "<class 'list'>\n",
      "<class 'list'>\n"
     ]
    }
   ],
   "source": [
    "x= list()\n",
    "y=[]\n",
    "a=[\"apple\",\"Ball\",\"Cat\",\"Dog\"]\n",
    "print(type(a))\n",
    "print(type(x))\n",
    "print(type(y))"
   ]
  },
  {
   "cell_type": "code",
   "execution_count": 13,
   "id": "1ce0b8a0",
   "metadata": {},
   "outputs": [
    {
     "name": "stdout",
     "output_type": "stream",
     "text": [
      "['apple', 'Ball', 'Cat', 'Dog', 'Fish', 'Apple']\n",
      "Fish\n",
      "['apple', 'Ball', 'Cat']\n",
      "['apple', 'Cat', 'Fish']\n"
     ]
    }
   ],
   "source": [
    "a=[\"apple\",\"Ball\",\"Cat\",\"Dog\",\"Fish\",\"Apple\"]\n",
    "print(a)\n",
    "print(a[4])\n",
    "print(a[0:3])\n",
    "print(a[0:5:2])"
   ]
  },
  {
   "cell_type": "code",
   "execution_count": 18,
   "id": "8a17f41d",
   "metadata": {},
   "outputs": [
    {
     "name": "stdout",
     "output_type": "stream",
     "text": [
      "['apple', 'Ball', 'Cat', 'Dog', 'Fish', 'Apple', 2, 3, 4, 5, 6, 2, 4, 6]\n"
     ]
    }
   ],
   "source": [
    "a=[\"apple\",\"Ball\",\"Cat\",\"Dog\",\"Fish\",\"Apple\"]\n",
    "b = [2,3,4,5,6,2,4,6]\n",
    "c = a+b\n",
    "print(c)"
   ]
  },
  {
   "cell_type": "code",
   "execution_count": 16,
   "id": "442f36a9",
   "metadata": {},
   "outputs": [
    {
     "name": "stdout",
     "output_type": "stream",
     "text": [
      "[2, 4, 5, 6, 2, 4, 6, 2, 4, 5, 6, 2, 4, 6]\n"
     ]
    }
   ],
   "source": [
    "b = [2,4,5,6,2,4,6]\n",
    "print(b*2)"
   ]
  },
  {
   "cell_type": "code",
   "execution_count": null,
   "id": "43a59115",
   "metadata": {},
   "outputs": [],
   "source": [
    "l = []\n",
    "n = int(input(\"Enter n = \"))\n",
    "for i in range(n):\n",
    "    x = input(\"Enter x =\")\n",
    "    l = l+[x]\n",
    "    \n",
    "print(l)\n",
    "    "
   ]
  },
  {
   "cell_type": "code",
   "execution_count": 24,
   "id": "3dbc0f30",
   "metadata": {},
   "outputs": [
    {
     "data": {
      "text/plain": [
       "['apple', 'and', 'ball']"
      ]
     },
     "execution_count": 24,
     "metadata": {},
     "output_type": "execute_result"
    }
   ],
   "source": [
    "x = 'apple and ball'\n",
    "x.split()"
   ]
  },
  {
   "cell_type": "code",
   "execution_count": 27,
   "id": "d8647074",
   "metadata": {},
   "outputs": [
    {
     "name": "stdout",
     "output_type": "stream",
     "text": [
      "apple\n",
      "Ball\n",
      "Cat\n",
      "Dog\n",
      "Fish\n",
      "Apple\n"
     ]
    }
   ],
   "source": [
    "x = ['apple', 'and', 'ball']\n",
    "for x in a:\n",
    "    print(x)"
   ]
  },
  {
   "cell_type": "code",
   "execution_count": 29,
   "id": "55f9c9ed",
   "metadata": {},
   "outputs": [
    {
     "name": "stdout",
     "output_type": "stream",
     "text": [
      "0 apple\n",
      "1 and\n",
      "2 cat\n"
     ]
    }
   ],
   "source": [
    "a = ['apple', 'and', 'cat']\n",
    "l = len(a)\n",
    "for z in range(l):\n",
    "    print(z,(a[z]))"
   ]
  },
  {
   "cell_type": "code",
   "execution_count": 31,
   "id": "3251a30f",
   "metadata": {},
   "outputs": [
    {
     "name": "stdout",
     "output_type": "stream",
     "text": [
      "Enter n = 5\n",
      "Enter x =54\n",
      "Enter x =25\n",
      "Enter x =25\n",
      "Enter x =25\n",
      "Enter x =55\n",
      "['54', '25', '25', '25', '55']\n"
     ]
    }
   ],
   "source": [
    "l = []\n",
    "n = int(input(\"Enter n = \"))\n",
    "for i in range(n):\n",
    "    x = input(\"Enter x =\")\n",
    "    l = l+[x]\n",
    "    \n",
    "print(l)"
   ]
  },
  {
   "cell_type": "code",
   "execution_count": 12,
   "id": "14be63fb",
   "metadata": {},
   "outputs": [
    {
     "name": "stdout",
     "output_type": "stream",
     "text": [
      "The Max value of l =  85\n",
      "The min value of l =  12\n",
      "The sum value of l =  336\n",
      "The avg value of l =  56.0\n",
      "[12, 45, 54, 65, 75, 85]\n",
      "[85, 75, 65, 54, 45, 12]\n"
     ]
    }
   ],
   "source": [
    "l=[12,54,85,75,65,45]\n",
    "n = len(l)\n",
    "print(\"The Max value of l = \",max(l))\n",
    "print(\"The min value of l = \",min(l))\n",
    "print(\"The sum value of l = \",sum(l))\n",
    "print(\"The avg value of l = \",sum(l)/n)\n",
    "l.sort()\n",
    "print(l)\n",
    "l.reverse()\n",
    "print(l)"
   ]
  },
  {
   "cell_type": "code",
   "execution_count": 11,
   "id": "69fa31e1",
   "metadata": {},
   "outputs": [
    {
     "name": "stdout",
     "output_type": "stream",
     "text": [
      "['And', 'apple', 'cat']\n"
     ]
    }
   ],
   "source": [
    "a = ['apple', 'And', 'cat']\n",
    "a.sort()\n",
    "print(a)"
   ]
  },
  {
   "cell_type": "code",
   "execution_count": null,
   "id": "6ba1bc7e",
   "metadata": {},
   "outputs": [],
   "source": [
    "# Data Input\n",
    "#append() insert() extend()\n",
    "\n",
    "#Delete data\n",
    "#del remove() pop()\n",
    "#update data\n",
    "# Reading Index\n",
    "# index()"
   ]
  },
  {
   "cell_type": "code",
   "execution_count": 14,
   "id": "4dabb1fa",
   "metadata": {},
   "outputs": [
    {
     "name": "stdout",
     "output_type": "stream",
     "text": [
      "['apple', 'Ball', 'Cat', 'Dog', 'Fish', 'Apple', 'goat']\n"
     ]
    }
   ],
   "source": [
    "a=[\"apple\",\"Ball\",\"Cat\",\"Dog\",\"Fish\",\"Apple\"]\n",
    "a.append(\"goat\")\n",
    "print(a)"
   ]
  },
  {
   "cell_type": "code",
   "execution_count": null,
   "id": "ac970795",
   "metadata": {},
   "outputs": [
    {
     "name": "stdout",
     "output_type": "stream",
     "text": [
      "Enter n = 5\n",
      "Enter x =Ram\n"
     ]
    }
   ],
   "source": [
    "l = []\n",
    "n = int(input(\"Enter n = \"))\n",
    "for i in range(n):\n",
    "    x = input(\"Enter x =\")\n",
    "    l.append(x)\n",
    "    \n",
    "    \n",
    "print(l)"
   ]
  },
  {
   "cell_type": "code",
   "execution_count": 1,
   "id": "3c0e9633",
   "metadata": {},
   "outputs": [
    {
     "name": "stdout",
     "output_type": "stream",
     "text": [
      "['apple', 'ball', 'Ball', 'Cat', 'Dog', 'Fish', 'Apple']\n"
     ]
    }
   ],
   "source": [
    "# Insert\n",
    "a=[\"apple\",\"Ball\",\"Cat\",\"Dog\",\"Fish\",\"Apple\"]\n",
    "a.insert(1,'ball')\n",
    "print(a)"
   ]
  },
  {
   "cell_type": "code",
   "execution_count": 2,
   "id": "6c5eb5b8",
   "metadata": {},
   "outputs": [
    {
     "name": "stdout",
     "output_type": "stream",
     "text": [
      "['apple', 'ball', 'Cat', 'Dog', 'Fish', 'Apple']\n"
     ]
    }
   ],
   "source": [
    "# update\n",
    "a=[\"apple\",\"Ball\",\"Cat\",\"Dog\",\"Fish\",\"Apple\"]\n",
    "a[1]='ball'\n",
    "print(a)"
   ]
  },
  {
   "cell_type": "code",
   "execution_count": 3,
   "id": "6280c177",
   "metadata": {},
   "outputs": [
    {
     "name": "stdout",
     "output_type": "stream",
     "text": [
      "['apple', 'Ball', 'Cat', 'Dog', 'Fish', 'Apple', 2, 3, 4, 5, 6]\n"
     ]
    }
   ],
   "source": [
    "# Extend\n",
    "a=[\"apple\",\"Ball\",\"Cat\",\"Dog\",\"Fish\",\"Apple\"]\n",
    "b = [2,3,4,5,6,]\n",
    "a.extend(b)\n",
    "print(a)"
   ]
  },
  {
   "cell_type": "code",
   "execution_count": 6,
   "id": "90b8a319",
   "metadata": {},
   "outputs": [
    {
     "name": "stdout",
     "output_type": "stream",
     "text": [
      "['Ball', 'Cat', 'Dog', 'Fish', 'Apple', 1, 2, 3, 4, 5, 6]\n"
     ]
    }
   ],
   "source": [
    "# Del\n",
    "a = ['apple', 'Ball', 'Cat', 'Dog', 'Fish', 'Apple', 1, 2, 3, 4, 5, 6]\n",
    "del a[0]\n",
    "print(a)"
   ]
  },
  {
   "cell_type": "code",
   "execution_count": 11,
   "id": "9fc719e5",
   "metadata": {},
   "outputs": [
    {
     "name": "stdout",
     "output_type": "stream",
     "text": [
      "['Ball', 'Dog', 'Apple', 1, 2, 3, 4, 5, 6]\n"
     ]
    }
   ],
   "source": [
    "# Delete 1 after another ... \n",
    "\n",
    "a = ['apple', 'Ball', 'Cat', 'Dog', 'Fish', 'Apple', 1, 2, 3, 4, 5, 6]\n",
    "del a[0:5:2]\n",
    "print(a)\n"
   ]
  },
  {
   "cell_type": "code",
   "execution_count": 6,
   "id": "1dee929d",
   "metadata": {},
   "outputs": [
    {
     "name": "stdout",
     "output_type": "stream",
     "text": [
      "['apple', 'Cat', 'Dog', 'Fish', 'Apple', 1, 2, 3, 4, 5, 6]\n"
     ]
    }
   ],
   "source": [
    "# remove\n",
    "a = ['apple', 'Ball', 'Cat', 'Dog', 'Fish', 'Apple', 1, 2, 3, 4, 5, 6]\n",
    "a.remove(\"Ball\")\n",
    "print(a)"
   ]
  },
  {
   "cell_type": "code",
   "execution_count": 11,
   "id": "44b46ac0",
   "metadata": {},
   "outputs": [
    {
     "name": "stdout",
     "output_type": "stream",
     "text": [
      "2\n"
     ]
    },
    {
     "data": {
      "text/plain": [
       "['Ball', 'Cat', 'Dog', 'Fish', 1, 2, 3, 4, 5, 6]"
      ]
     },
     "execution_count": 11,
     "metadata": {},
     "output_type": "execute_result"
    }
   ],
   "source": [
    "# remove\n",
    "a = ['Apple', 'Ball', 'Cat', 'Dog', 'Fish', 'Apple', 1, 2, 3, 4, 5, 6]\n",
    "l =a.count('Apple')\n",
    "print(l)\n",
    "for i in range(l):\n",
    "    a.remove(\"Apple\")\n",
    "a    \n"
   ]
  },
  {
   "cell_type": "code",
   "execution_count": 14,
   "id": "be42010b",
   "metadata": {},
   "outputs": [
    {
     "name": "stdout",
     "output_type": "stream",
     "text": [
      "['Apple', 'Ball', 'Cat', 'Dog', 'Fish', 'Apple', 1, 2, 3, 4, 5]\n",
      "6\n"
     ]
    }
   ],
   "source": [
    "# Pop\n",
    "a = ['Apple', 'Ball', 'Cat', 'Dog', 'Fish', 'Apple', 1, 2, 3, 4, 5, 6]\n",
    "b = a.pop()\n",
    "\n",
    "print(a)\n",
    "print(b)\n"
   ]
  },
  {
   "cell_type": "code",
   "execution_count": 15,
   "id": "6872be10",
   "metadata": {},
   "outputs": [
    {
     "name": "stdout",
     "output_type": "stream",
     "text": [
      "['Apple', 'Cat', 'Dog', 'Fish', 'Apple', 1, 2, 3, 4, 5, 6]\n",
      "Ball\n"
     ]
    }
   ],
   "source": [
    "# Pop generally used for cut only\n",
    "a = ['Apple', 'Ball', 'Cat', 'Dog', 'Fish', 'Apple', 1, 2, 3, 4, 5, 6]\n",
    "b = a.pop(1)\n",
    "\n",
    "print(a)\n",
    "print(b)"
   ]
  },
  {
   "cell_type": "code",
   "execution_count": 17,
   "id": "a7e78cd9",
   "metadata": {},
   "outputs": [
    {
     "data": {
      "text/plain": [
       "0"
      ]
     },
     "execution_count": 17,
     "metadata": {},
     "output_type": "execute_result"
    }
   ],
   "source": [
    "a = ['Apple', 'Ball', 'Cat', 'Dog', 'Fish', 'Apple', 1, 2, 3, 4, 5, 6]\n",
    "a.index('Apple')"
   ]
  },
  {
   "cell_type": "code",
   "execution_count": 1,
   "id": "1a14b362",
   "metadata": {},
   "outputs": [
    {
     "name": "stdout",
     "output_type": "stream",
     "text": [
      "['Apple', 'Ball', 'Cat', 'Dog', 'Fish', 'Apple']\n",
      "['Apple', 'Ball', 'Cat', 'Dog', 'Fish', 'Apple']\n"
     ]
    }
   ],
   "source": [
    "a = ['Apple', 'Ball', 'Cat', 'Dog', 'Fish', 'Apple']\n",
    "k = len(a)\n",
    "for i in range(k):\n",
    "    if a[i] == 'Apple':\n",
    "        print(a)\n"
   ]
  },
  {
   "cell_type": "code",
   "execution_count": null,
   "id": "46d51808",
   "metadata": {},
   "outputs": [],
   "source": [
    "# List Inside List\n"
   ]
  },
  {
   "cell_type": "code",
   "execution_count": 2,
   "id": "648f0b57",
   "metadata": {},
   "outputs": [
    {
     "ename": "SyntaxError",
     "evalue": "unmatched ']' (1421061412.py, line 3)",
     "output_type": "error",
     "traceback": [
      "\u001b[1;36m  File \u001b[1;32m\"C:\\Users\\Gour\\AppData\\Local\\Temp\\ipykernel_2936\\1421061412.py\"\u001b[1;36m, line \u001b[1;32m3\u001b[0m\n\u001b[1;33m    7,8,9]]\u001b[0m\n\u001b[1;37m          ^\u001b[0m\n\u001b[1;31mSyntaxError\u001b[0m\u001b[1;31m:\u001b[0m unmatched ']'\n"
     ]
    }
   ],
   "source": [
    "a = [[1,2,3],\n",
    "    [4,5,6],\n",
    "    7,8,9]]"
   ]
  },
  {
   "cell_type": "code",
   "execution_count": 8,
   "id": "c2b2b5ee",
   "metadata": {},
   "outputs": [
    {
     "name": "stdout",
     "output_type": "stream",
     "text": [
      "['Ram', 34, 'Katmandu']\n",
      "Ram\n",
      "3\n"
     ]
    }
   ],
   "source": [
    "a = [['Ram',34,'Katmandu'],\n",
    "    ['Shayam',45,'Lalitpur'],\n",
    "    ['Hari',67,'Bhaktapur']]\n",
    "\n",
    "\n",
    "print(a[0])\n",
    "print(a[0][0])\n",
    "print(len(a))\n"
   ]
  },
  {
   "cell_type": "code",
   "execution_count": 9,
   "id": "bc48499e",
   "metadata": {},
   "outputs": [
    {
     "data": {
      "text/plain": [
       "[['Ram', 34, 'Katmandu'],\n",
       " ['Shayam', 45, 'Lalitpur'],\n",
       " ['Hari', 67, 'Bhaktapur'],\n",
       " ['Nabin', 48, 'Bara']]"
      ]
     },
     "execution_count": 9,
     "metadata": {},
     "output_type": "execute_result"
    }
   ],
   "source": [
    "a = [['Ram',34,'Katmandu'],\n",
    "    ['Shayam',45,'Lalitpur'],\n",
    "    ['Hari',67,'Bhaktapur']]\n",
    "b = [['Nabin',48,'Bara']]\n",
    "c = a+b\n",
    "c\n"
   ]
  },
  {
   "cell_type": "code",
   "execution_count": 4,
   "id": "cbe66fa0",
   "metadata": {},
   "outputs": [
    {
     "name": "stdout",
     "output_type": "stream",
     "text": [
      "Enter n = 2\n",
      "Enter Name = Ram\n",
      "ENter Age =25\n",
      "ENter add =Katmandu\n",
      "Enter Name = Shayam\n",
      "ENter Age =35\n",
      "ENter add =Lagankhel\n"
     ]
    },
    {
     "ename": "NameError",
     "evalue": "name 'Info' is not defined",
     "output_type": "error",
     "traceback": [
      "\u001b[1;31m---------------------------------------------------------------------------\u001b[0m",
      "\u001b[1;31mNameError\u001b[0m                                 Traceback (most recent call last)",
      "\u001b[1;32m~\\AppData\\Local\\Temp\\ipykernel_2936\\3671014096.py\u001b[0m in \u001b[0;36m<module>\u001b[1;34m\u001b[0m\n\u001b[0;32m      7\u001b[0m     \u001b[0madd\u001b[0m \u001b[1;33m=\u001b[0m \u001b[0minput\u001b[0m\u001b[1;33m(\u001b[0m\u001b[1;34m'ENter add ='\u001b[0m\u001b[1;33m)\u001b[0m\u001b[1;33m\u001b[0m\u001b[1;33m\u001b[0m\u001b[0m\n\u001b[0;32m      8\u001b[0m     \u001b[0minfo\u001b[0m\u001b[1;33m.\u001b[0m\u001b[0mappend\u001b[0m\u001b[1;33m(\u001b[0m\u001b[1;33m[\u001b[0m\u001b[0mname\u001b[0m\u001b[1;33m,\u001b[0m\u001b[0mage\u001b[0m\u001b[1;33m,\u001b[0m\u001b[0madd\u001b[0m\u001b[1;33m]\u001b[0m\u001b[1;33m)\u001b[0m\u001b[1;33m\u001b[0m\u001b[1;33m\u001b[0m\u001b[0m\n\u001b[1;32m----> 9\u001b[1;33m \u001b[0mprint\u001b[0m\u001b[1;33m(\u001b[0m\u001b[0mInfo\u001b[0m\u001b[1;33m)\u001b[0m\u001b[1;33m\u001b[0m\u001b[1;33m\u001b[0m\u001b[0m\n\u001b[0m",
      "\u001b[1;31mNameError\u001b[0m: name 'Info' is not defined"
     ]
    }
   ],
   "source": [
    "info=[]\n",
    "\n",
    "n = int(input(\"Enter n = \"))\n",
    "for i in range(n):\n",
    "    name = input('Enter Name = ')\n",
    "    age = str(input('ENter Age ='))\n",
    "    add = input('ENter add =')\n",
    "    info.append([name,age,add])\n",
    "print(Info)\n"
   ]
  },
  {
   "cell_type": "code",
   "execution_count": 7,
   "id": "1f1d3323",
   "metadata": {},
   "outputs": [],
   "source": [
    "for i in info:\n",
    "    if 'Shayam' in i:\n",
    "        print(i)"
   ]
  },
  {
   "cell_type": "code",
   "execution_count": 8,
   "id": "a63232e8",
   "metadata": {},
   "outputs": [
    {
     "name": "stdout",
     "output_type": "stream",
     "text": [
      "enter name for search = Ram\n",
      "['Ram', '45', 'Katmandu']\n"
     ]
    }
   ],
   "source": [
    "name = input(\"enter name for search = \")\n",
    "for i in info:\n",
    "    if name in i:\n",
    "        print(i)"
   ]
  },
  {
   "cell_type": "code",
   "execution_count": 5,
   "id": "d1ee7e21",
   "metadata": {},
   "outputs": [
    {
     "name": "stdout",
     "output_type": "stream",
     "text": [
      "enter name for search = Katmandu\n",
      "['Ram', '25', 'Katmandu']\n"
     ]
    }
   ],
   "source": [
    "name = input(\"enter name for search = \")\n",
    "for i in info:\n",
    "    if name.lower() in i[2].lower():\n",
    "        print(i)"
   ]
  },
  {
   "cell_type": "code",
   "execution_count": 20,
   "id": "0cd36024",
   "metadata": {},
   "outputs": [
    {
     "name": "stdout",
     "output_type": "stream",
     "text": [
      "[['Ram', 34], ['Shayam', 45, 'Lalitpur'], ['Hari', 67, 'Bhaktapur']]\n"
     ]
    }
   ],
   "source": [
    "# del remove() pop()\n",
    "\n",
    "a = [['Ram',34,'Katmandu'],\n",
    "    ['Shayam',45,'Lalitpur'],\n",
    "    ['Hari',67,'Bhaktapur']]\n",
    "\n",
    "del a[0][2]\n",
    "print(a)"
   ]
  },
  {
   "cell_type": "code",
   "execution_count": 21,
   "id": "6b044ea7",
   "metadata": {},
   "outputs": [
    {
     "name": "stdout",
     "output_type": "stream",
     "text": [
      "[['Rama', 56, 'Jhapa'], ['Shayam', 45, 'Lalitpur'], ['Hari', 67, 'Bhaktapur']]\n"
     ]
    }
   ],
   "source": [
    "# Update\n",
    "\n",
    "a = [['Ram',34,'Katmandu'],\n",
    "    ['Shayam',45,'Lalitpur'],\n",
    "    ['Hari',67,'Bhaktapur']]\n",
    "\n",
    "a[0]=['Rama',56,'Jhapa']\n",
    "print(a)"
   ]
  },
  {
   "cell_type": "code",
   "execution_count": 23,
   "id": "461748cd",
   "metadata": {},
   "outputs": [
    {
     "name": "stdout",
     "output_type": "stream",
     "text": [
      "[['Rama', 56, 'Jhapa'], ['Shayama', 67, 'Chitwan'], ['Hari', 67, 'Bhaktapur']]\n"
     ]
    }
   ],
   "source": [
    "# Update\n",
    "\n",
    "a = [['Ram',34,'Katmandu'],\n",
    "    ['Shayam',45,'Lalitpur'],\n",
    "    ['Hari',67,'Bhaktapur']]\n",
    "\n",
    "a[0:2]=['Rama',56,'Jhapa'],['Shayama',67,'Chitwan']\n",
    "print(a)"
   ]
  },
  {
   "cell_type": "code",
   "execution_count": 24,
   "id": "28d34513",
   "metadata": {},
   "outputs": [
    {
     "name": "stdout",
     "output_type": "stream",
     "text": [
      "[['Rama', 34, 'Katmandu'], ['Shayam', 45, 'Lalitpur'], ['Hari', 67, 'Bhaktapur']]\n"
     ]
    }
   ],
   "source": [
    "# Update\n",
    "\n",
    "a = [['Ram',34,'Katmandu'],\n",
    "    ['Shayam',45,'Lalitpur'],\n",
    "    ['Hari',67,'Bhaktapur']]\n",
    "\n",
    "a[0][0]='Rama'\n",
    "print(a)"
   ]
  },
  {
   "cell_type": "code",
   "execution_count": 26,
   "id": "9fb05994",
   "metadata": {},
   "outputs": [
    {
     "name": "stdout",
     "output_type": "stream",
     "text": [
      "['Shayam', 45, 'Lalitpur']\n",
      "['Hari', 67, 'Bhaktapur']\n"
     ]
    }
   ],
   "source": [
    "a = [['Ram',34,'Katmandu'],\n",
    "    ['Shayam',45,'Lalitpur'],\n",
    "    ['Hari',67,'Bhaktapur']]\n",
    "for i in a:\n",
    "    if i[1]>40:\n",
    "        print(i)"
   ]
  },
  {
   "cell_type": "code",
   "execution_count": null,
   "id": "2e6a24b0",
   "metadata": {},
   "outputs": [],
   "source": [
    "# WAP to create a matrix (list inside list) by taking column value by user.\n",
    "# WAP to create a billing system with cRUD (Create, reverse, update, delete)"
   ]
  },
  {
   "cell_type": "code",
   "execution_count": null,
   "id": "cff60444",
   "metadata": {},
   "outputs": [],
   "source": []
  },
  {
   "cell_type": "code",
   "execution_count": null,
   "id": "9629af5d",
   "metadata": {},
   "outputs": [],
   "source": []
  },
  {
   "cell_type": "code",
   "execution_count": null,
   "id": "4c037e65",
   "metadata": {},
   "outputs": [],
   "source": []
  }
 ],
 "metadata": {
  "kernelspec": {
   "display_name": "Python 3 (ipykernel)",
   "language": "python",
   "name": "python3"
  },
  "language_info": {
   "codemirror_mode": {
    "name": "ipython",
    "version": 3
   },
   "file_extension": ".py",
   "mimetype": "text/x-python",
   "name": "python",
   "nbconvert_exporter": "python",
   "pygments_lexer": "ipython3",
   "version": "3.9.13"
  }
 },
 "nbformat": 4,
 "nbformat_minor": 5
}
