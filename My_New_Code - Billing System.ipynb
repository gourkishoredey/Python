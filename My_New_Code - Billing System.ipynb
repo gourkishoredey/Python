{
 "cells": [
  {
   "cell_type": "code",
   "execution_count": 1,
   "id": "02c80726",
   "metadata": {},
   "outputs": [],
   "source": [
    "## Billing System"
   ]
  },
  {
   "cell_type": "code",
   "execution_count": 2,
   "id": "5719202a",
   "metadata": {},
   "outputs": [
    {
     "name": "stdout",
     "output_type": "stream",
     "text": [
      "01122022\n"
     ]
    }
   ],
   "source": [
    "import datetime\n",
    "\n",
    "x = datetime.datetime.now()\n",
    "day = x.strftime(\"%d\")\n",
    "month = x.strftime(\"%m\")\n",
    "year = x.strftime(\"%Y\")\n",
    "\n",
    "billname = day+month+year\n",
    "\n",
    "print(billname)\n"
   ]
  },
  {
   "cell_type": "code",
   "execution_count": 3,
   "id": "d0a83728",
   "metadata": {},
   "outputs": [
    {
     "data": {
      "text/plain": [
       "'01122022.csv'"
      ]
     },
     "execution_count": 3,
     "metadata": {},
     "output_type": "execute_result"
    }
   ],
   "source": [
    "f\"{billname}.csv\""
   ]
  },
  {
   "cell_type": "code",
   "execution_count": 4,
   "id": "785f13a6",
   "metadata": {},
   "outputs": [
    {
     "name": "stdout",
     "output_type": "stream",
     "text": [
      "This file already exits!\n"
     ]
    }
   ],
   "source": [
    "try:\n",
    "    file =open(f\"{billname}.csv\",'x')\n",
    "    file.close()\n",
    "except:\n",
    "    print(\"This file already exits!\")"
   ]
  },
  {
   "cell_type": "code",
   "execution_count": 5,
   "id": "7f920044",
   "metadata": {},
   "outputs": [],
   "source": [
    "file =open(f\"{billname}.csv\",'w')\n",
    "file.write('Name,Price,Quantity,Total\\n')\n",
    "file.close()"
   ]
  },
  {
   "cell_type": "code",
   "execution_count": 6,
   "id": "46ce1735",
   "metadata": {},
   "outputs": [
    {
     "name": "stdout",
     "output_type": "stream",
     "text": [
      "Enter Number of Item Sold = 2\n",
      "Enter product name = Apple\n",
      "Enter price = 100\n",
      "Enter quantity = 2\n",
      "Enter product name = Juice\n",
      "Enter price = 150\n",
      "Enter quantity = 3\n",
      "Apple,100,2,200\n",
      "Juice,150,3,450\n",
      "\n",
      "All total =  650\n"
     ]
    }
   ],
   "source": [
    "file =open(f\"{billname}.csv\",'a')\n",
    "\n",
    "s = str()\n",
    "i = 0\n",
    "all_total = 0\n",
    "c = int(input(\"Enter Number of Item Sold = \"))\n",
    "while i<c:\n",
    "    name = input(\"Enter product name = \")\n",
    "    price  = int(input(\"Enter price = \"))\n",
    "    quantity  = int(input(\"Enter quantity = \"))\n",
    "    total = price*quantity\n",
    "    all_total = all_total + total\n",
    "    s = s + f\"{name},{price},{quantity},{total}\\n\"\n",
    "    i = i+1\n",
    "print(s)\n",
    "print(\"All total = \",all_total)\n",
    "\n",
    "file.write(s)\n",
    "file.close()"
   ]
  },
  {
   "cell_type": "code",
   "execution_count": 17,
   "id": "a3609549",
   "metadata": {},
   "outputs": [
    {
     "name": "stdout",
     "output_type": "stream",
     "text": [
      "    Name  Price  Quantity  Total\n",
      "0  Apple    100         2    200\n",
      "1  Juice    150         3    450\n"
     ]
    }
   ],
   "source": [
    "import pandas as pd\n",
    "df = pd.read_csv('01122022.csv')\n",
    "print(df)"
   ]
  },
  {
   "cell_type": "code",
   "execution_count": null,
   "id": "49f72711",
   "metadata": {},
   "outputs": [],
   "source": []
  },
  {
   "cell_type": "code",
   "execution_count": null,
   "id": "65291d11",
   "metadata": {},
   "outputs": [],
   "source": []
  }
 ],
 "metadata": {
  "kernelspec": {
   "display_name": "Python 3 (ipykernel)",
   "language": "python",
   "name": "python3"
  },
  "language_info": {
   "codemirror_mode": {
    "name": "ipython",
    "version": 3
   },
   "file_extension": ".py",
   "mimetype": "text/x-python",
   "name": "python",
   "nbconvert_exporter": "python",
   "pygments_lexer": "ipython3",
   "version": "3.9.13"
  }
 },
 "nbformat": 4,
 "nbformat_minor": 5
}
