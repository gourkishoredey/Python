{
 "cells": [
  {
   "cell_type": "code",
   "execution_count": 2,
   "id": "9ceb060c",
   "metadata": {},
   "outputs": [
    {
     "name": "stdout",
     "output_type": "stream",
     "text": [
      "The Info file is already exist!\n"
     ]
    }
   ],
   "source": [
    "try:\n",
    "    file = open(\"info.csv\",\"x\")\n",
    "    file.close()\n",
    "except:\n",
    "    print(\"The Info file is already exist!\")"
   ]
  },
  {
   "cell_type": "code",
   "execution_count": 2,
   "id": "153e4152",
   "metadata": {},
   "outputs": [
    {
     "name": "stdout",
     "output_type": "stream",
     "text": [
      "   sr     name  age    addesss       phone\n",
      "0   1      ram   34   Katmandu  9865415475\n",
      "1   2  Shaayam   45  Bhaktapur  9654751236\n",
      "2   3     Hari   27   Lalitpur  9845741256\n",
      "3   4     Sita   52    Gowarko  9854265214\n",
      "4   5     Gita   22  Sadwabato  8547562145\n",
      "5   6    Nabin   25   Nuwakote  9856412031\n"
     ]
    }
   ],
   "source": [
    "import pandas as pd\n",
    "df = pd.read_csv(\"info.csv\")\n",
    "print(df)"
   ]
  },
  {
   "cell_type": "code",
   "execution_count": 11,
   "id": "a40a3cba",
   "metadata": {},
   "outputs": [
    {
     "name": "stdout",
     "output_type": "stream",
     "text": [
      "   sr     name  age    addesss       phone\n",
      "0   1      ram   34   Katmandu  9865415475\n",
      "1   2  Shaayam   45  Bhaktapur  9654751236\n",
      "2   3     Hari   27   Lalitpur  9845741256\n",
      "3   4     Sita   52    Gowarko  9854265214\n",
      "4   5     Gita   22  Sadwabato  8547562145\n"
     ]
    },
    {
     "data": {
      "text/html": [
       "<div>\n",
       "<style scoped>\n",
       "    .dataframe tbody tr th:only-of-type {\n",
       "        vertical-align: middle;\n",
       "    }\n",
       "\n",
       "    .dataframe tbody tr th {\n",
       "        vertical-align: top;\n",
       "    }\n",
       "\n",
       "    .dataframe thead th {\n",
       "        text-align: right;\n",
       "    }\n",
       "</style>\n",
       "<table border=\"1\" class=\"dataframe\">\n",
       "  <thead>\n",
       "    <tr style=\"text-align: right;\">\n",
       "      <th></th>\n",
       "      <th>sr</th>\n",
       "      <th>name</th>\n",
       "      <th>age</th>\n",
       "      <th>addesss</th>\n",
       "      <th>phone</th>\n",
       "    </tr>\n",
       "  </thead>\n",
       "  <tbody>\n",
       "    <tr>\n",
       "      <th>0</th>\n",
       "      <td>1</td>\n",
       "      <td>ram</td>\n",
       "      <td>34</td>\n",
       "      <td>Katmandu</td>\n",
       "      <td>9865415475</td>\n",
       "    </tr>\n",
       "    <tr>\n",
       "      <th>1</th>\n",
       "      <td>2</td>\n",
       "      <td>Shaayam</td>\n",
       "      <td>45</td>\n",
       "      <td>Bhaktapur</td>\n",
       "      <td>9654751236</td>\n",
       "    </tr>\n",
       "    <tr>\n",
       "      <th>2</th>\n",
       "      <td>3</td>\n",
       "      <td>Hari</td>\n",
       "      <td>27</td>\n",
       "      <td>Lalitpur</td>\n",
       "      <td>9845741256</td>\n",
       "    </tr>\n",
       "    <tr>\n",
       "      <th>3</th>\n",
       "      <td>4</td>\n",
       "      <td>Sita</td>\n",
       "      <td>52</td>\n",
       "      <td>Gowarko</td>\n",
       "      <td>9854265214</td>\n",
       "    </tr>\n",
       "    <tr>\n",
       "      <th>4</th>\n",
       "      <td>5</td>\n",
       "      <td>Gita</td>\n",
       "      <td>22</td>\n",
       "      <td>Sadwabato</td>\n",
       "      <td>8547562145</td>\n",
       "    </tr>\n",
       "  </tbody>\n",
       "</table>\n",
       "</div>"
      ],
      "text/plain": [
       "   sr     name  age    addesss       phone\n",
       "0   1      ram   34   Katmandu  9865415475\n",
       "1   2  Shaayam   45  Bhaktapur  9654751236\n",
       "2   3     Hari   27   Lalitpur  9845741256\n",
       "3   4     Sita   52    Gowarko  9854265214\n",
       "4   5     Gita   22  Sadwabato  8547562145"
      ]
     },
     "execution_count": 11,
     "metadata": {},
     "output_type": "execute_result"
    }
   ],
   "source": [
    "# !pip install pandas\n",
    "import pandas as pd\n",
    "df = pd.read_csv(\"info.csv\",nrows=5)\n",
    "print(df)\n",
    "df\n",
    "# print(df.head(1))\n",
    "# df.tail()"
   ]
  },
  {
   "cell_type": "code",
   "execution_count": 15,
   "id": "f110510b",
   "metadata": {},
   "outputs": [
    {
     "data": {
      "text/html": [
       "<div>\n",
       "<style scoped>\n",
       "    .dataframe tbody tr th:only-of-type {\n",
       "        vertical-align: middle;\n",
       "    }\n",
       "\n",
       "    .dataframe tbody tr th {\n",
       "        vertical-align: top;\n",
       "    }\n",
       "\n",
       "    .dataframe thead th {\n",
       "        text-align: right;\n",
       "    }\n",
       "</style>\n",
       "<table border=\"1\" class=\"dataframe\">\n",
       "  <thead>\n",
       "    <tr style=\"text-align: right;\">\n",
       "      <th></th>\n",
       "      <th>sr</th>\n",
       "      <th>name</th>\n",
       "      <th>age</th>\n",
       "      <th>addesss</th>\n",
       "      <th>phone</th>\n",
       "    </tr>\n",
       "  </thead>\n",
       "  <tbody>\n",
       "    <tr>\n",
       "      <th>0</th>\n",
       "      <td>1</td>\n",
       "      <td>ram</td>\n",
       "      <td>34</td>\n",
       "      <td>Katmandu</td>\n",
       "      <td>9865415475</td>\n",
       "    </tr>\n",
       "    <tr>\n",
       "      <th>1</th>\n",
       "      <td>2</td>\n",
       "      <td>Shaayam</td>\n",
       "      <td>45</td>\n",
       "      <td>Bhaktapur</td>\n",
       "      <td>9654751236</td>\n",
       "    </tr>\n",
       "    <tr>\n",
       "      <th>2</th>\n",
       "      <td>3</td>\n",
       "      <td>Hari</td>\n",
       "      <td>27</td>\n",
       "      <td>Lalitpur</td>\n",
       "      <td>9845741256</td>\n",
       "    </tr>\n",
       "    <tr>\n",
       "      <th>3</th>\n",
       "      <td>4</td>\n",
       "      <td>Sita</td>\n",
       "      <td>52</td>\n",
       "      <td>Gowarko</td>\n",
       "      <td>9854265214</td>\n",
       "    </tr>\n",
       "  </tbody>\n",
       "</table>\n",
       "</div>"
      ],
      "text/plain": [
       "   sr     name  age    addesss       phone\n",
       "0   1      ram   34   Katmandu  9865415475\n",
       "1   2  Shaayam   45  Bhaktapur  9654751236\n",
       "2   3     Hari   27   Lalitpur  9845741256\n",
       "3   4     Sita   52    Gowarko  9854265214"
      ]
     },
     "execution_count": 15,
     "metadata": {},
     "output_type": "execute_result"
    }
   ],
   "source": [
    "df = pd.read_csv(\"info.csv\",nrows=5)\n",
    "df[0:4]"
   ]
  },
  {
   "cell_type": "code",
   "execution_count": 24,
   "id": "d93b6ab2",
   "metadata": {},
   "outputs": [
    {
     "data": {
      "text/html": [
       "<div>\n",
       "<style scoped>\n",
       "    .dataframe tbody tr th:only-of-type {\n",
       "        vertical-align: middle;\n",
       "    }\n",
       "\n",
       "    .dataframe tbody tr th {\n",
       "        vertical-align: top;\n",
       "    }\n",
       "\n",
       "    .dataframe thead th {\n",
       "        text-align: right;\n",
       "    }\n",
       "</style>\n",
       "<table border=\"1\" class=\"dataframe\">\n",
       "  <thead>\n",
       "    <tr style=\"text-align: right;\">\n",
       "      <th></th>\n",
       "      <th>name</th>\n",
       "      <th>age</th>\n",
       "    </tr>\n",
       "  </thead>\n",
       "  <tbody>\n",
       "    <tr>\n",
       "      <th>0</th>\n",
       "      <td>ram</td>\n",
       "      <td>34</td>\n",
       "    </tr>\n",
       "    <tr>\n",
       "      <th>1</th>\n",
       "      <td>Shaayam</td>\n",
       "      <td>45</td>\n",
       "    </tr>\n",
       "    <tr>\n",
       "      <th>2</th>\n",
       "      <td>Hari</td>\n",
       "      <td>27</td>\n",
       "    </tr>\n",
       "    <tr>\n",
       "      <th>3</th>\n",
       "      <td>Sita</td>\n",
       "      <td>52</td>\n",
       "    </tr>\n",
       "  </tbody>\n",
       "</table>\n",
       "</div>"
      ],
      "text/plain": [
       "      name  age\n",
       "0      ram   34\n",
       "1  Shaayam   45\n",
       "2     Hari   27\n",
       "3     Sita   52"
      ]
     },
     "execution_count": 24,
     "metadata": {},
     "output_type": "execute_result"
    }
   ],
   "source": [
    "# iloc\n",
    "\n",
    "df.iloc[0:4,1:3]"
   ]
  },
  {
   "cell_type": "code",
   "execution_count": 27,
   "id": "213d0d92",
   "metadata": {},
   "outputs": [
    {
     "data": {
      "text/html": [
       "<div>\n",
       "<style scoped>\n",
       "    .dataframe tbody tr th:only-of-type {\n",
       "        vertical-align: middle;\n",
       "    }\n",
       "\n",
       "    .dataframe tbody tr th {\n",
       "        vertical-align: top;\n",
       "    }\n",
       "\n",
       "    .dataframe thead th {\n",
       "        text-align: right;\n",
       "    }\n",
       "</style>\n",
       "<table border=\"1\" class=\"dataframe\">\n",
       "  <thead>\n",
       "    <tr style=\"text-align: right;\">\n",
       "      <th></th>\n",
       "      <th>sr</th>\n",
       "      <th>name</th>\n",
       "      <th>phone</th>\n",
       "    </tr>\n",
       "  </thead>\n",
       "  <tbody>\n",
       "    <tr>\n",
       "      <th>0</th>\n",
       "      <td>1</td>\n",
       "      <td>ram</td>\n",
       "      <td>9865415475</td>\n",
       "    </tr>\n",
       "    <tr>\n",
       "      <th>1</th>\n",
       "      <td>2</td>\n",
       "      <td>Shaayam</td>\n",
       "      <td>9654751236</td>\n",
       "    </tr>\n",
       "    <tr>\n",
       "      <th>2</th>\n",
       "      <td>3</td>\n",
       "      <td>Hari</td>\n",
       "      <td>9845741256</td>\n",
       "    </tr>\n",
       "    <tr>\n",
       "      <th>3</th>\n",
       "      <td>4</td>\n",
       "      <td>Sita</td>\n",
       "      <td>9854265214</td>\n",
       "    </tr>\n",
       "    <tr>\n",
       "      <th>4</th>\n",
       "      <td>5</td>\n",
       "      <td>Gita</td>\n",
       "      <td>8547562145</td>\n",
       "    </tr>\n",
       "    <tr>\n",
       "      <th>5</th>\n",
       "      <td>6</td>\n",
       "      <td>Nabin</td>\n",
       "      <td>9856412031</td>\n",
       "    </tr>\n",
       "  </tbody>\n",
       "</table>\n",
       "</div>"
      ],
      "text/plain": [
       "   sr     name       phone\n",
       "0   1      ram  9865415475\n",
       "1   2  Shaayam  9654751236\n",
       "2   3     Hari  9845741256\n",
       "3   4     Sita  9854265214\n",
       "4   5     Gita  8547562145\n",
       "5   6    Nabin  9856412031"
      ]
     },
     "execution_count": 27,
     "metadata": {},
     "output_type": "execute_result"
    }
   ],
   "source": [
    "import pandas as pd\n",
    "df = pd.read_csv(\"info.csv\",usecols=['sr','name','phone'])\n",
    "df"
   ]
  },
  {
   "cell_type": "code",
   "execution_count": 30,
   "id": "01fe301a",
   "metadata": {},
   "outputs": [
    {
     "data": {
      "text/plain": [
       "['ram', 'Shaayam', 'Hari', 'Sita', 'Gita', 'Nabin']"
      ]
     },
     "execution_count": 30,
     "metadata": {},
     "output_type": "execute_result"
    }
   ],
   "source": [
    "import pandas as pd\n",
    "df = pd.read_csv(\"info.csv\")\n",
    "list(df['name'])"
   ]
  },
  {
   "cell_type": "code",
   "execution_count": 33,
   "id": "861feafe",
   "metadata": {},
   "outputs": [
    {
     "data": {
      "text/plain": [
       "0     True\n",
       "1    False\n",
       "2    False\n",
       "3    False\n",
       "4    False\n",
       "5    False\n",
       "Name: name, dtype: bool"
      ]
     },
     "execution_count": 33,
     "metadata": {},
     "output_type": "execute_result"
    }
   ],
   "source": [
    "import pandas as pd\n",
    "df = pd.read_csv(\"info.csv\")\n",
    "df['name'] == \"ram\""
   ]
  },
  {
   "cell_type": "code",
   "execution_count": 35,
   "id": "0a826df5",
   "metadata": {},
   "outputs": [
    {
     "data": {
      "text/html": [
       "<div>\n",
       "<style scoped>\n",
       "    .dataframe tbody tr th:only-of-type {\n",
       "        vertical-align: middle;\n",
       "    }\n",
       "\n",
       "    .dataframe tbody tr th {\n",
       "        vertical-align: top;\n",
       "    }\n",
       "\n",
       "    .dataframe thead th {\n",
       "        text-align: right;\n",
       "    }\n",
       "</style>\n",
       "<table border=\"1\" class=\"dataframe\">\n",
       "  <thead>\n",
       "    <tr style=\"text-align: right;\">\n",
       "      <th></th>\n",
       "      <th>sr</th>\n",
       "      <th>name</th>\n",
       "      <th>age</th>\n",
       "      <th>addesss</th>\n",
       "      <th>phone</th>\n",
       "    </tr>\n",
       "  </thead>\n",
       "  <tbody>\n",
       "    <tr>\n",
       "      <th>0</th>\n",
       "      <td>1</td>\n",
       "      <td>ram</td>\n",
       "      <td>34</td>\n",
       "      <td>Katmandu</td>\n",
       "      <td>9865415475</td>\n",
       "    </tr>\n",
       "    <tr>\n",
       "      <th>6</th>\n",
       "      <td>7</td>\n",
       "      <td>ram</td>\n",
       "      <td>56</td>\n",
       "      <td>Nagarkoat</td>\n",
       "      <td>8546325971</td>\n",
       "    </tr>\n",
       "  </tbody>\n",
       "</table>\n",
       "</div>"
      ],
      "text/plain": [
       "   sr name  age    addesss       phone\n",
       "0   1  ram   34   Katmandu  9865415475\n",
       "6   7  ram   56  Nagarkoat  8546325971"
      ]
     },
     "execution_count": 35,
     "metadata": {},
     "output_type": "execute_result"
    }
   ],
   "source": [
    "import pandas as pd\n",
    "df = pd.read_csv(\"info.csv\")\n",
    "df[df['name'] == \"ram\"]"
   ]
  },
  {
   "cell_type": "code",
   "execution_count": 43,
   "id": "cdc98837",
   "metadata": {},
   "outputs": [
    {
     "data": {
      "text/html": [
       "<div>\n",
       "<style scoped>\n",
       "    .dataframe tbody tr th:only-of-type {\n",
       "        vertical-align: middle;\n",
       "    }\n",
       "\n",
       "    .dataframe tbody tr th {\n",
       "        vertical-align: top;\n",
       "    }\n",
       "\n",
       "    .dataframe thead th {\n",
       "        text-align: right;\n",
       "    }\n",
       "</style>\n",
       "<table border=\"1\" class=\"dataframe\">\n",
       "  <thead>\n",
       "    <tr style=\"text-align: right;\">\n",
       "      <th></th>\n",
       "      <th>sr</th>\n",
       "      <th>name</th>\n",
       "      <th>age</th>\n",
       "      <th>addesss</th>\n",
       "      <th>phone</th>\n",
       "    </tr>\n",
       "  </thead>\n",
       "  <tbody>\n",
       "    <tr>\n",
       "      <th>2</th>\n",
       "      <td>3</td>\n",
       "      <td>Hari</td>\n",
       "      <td>27</td>\n",
       "      <td>Lalitpur</td>\n",
       "      <td>9845741256</td>\n",
       "    </tr>\n",
       "  </tbody>\n",
       "</table>\n",
       "</div>"
      ],
      "text/plain": [
       "   sr  name  age   addesss       phone\n",
       "2   3  Hari   27  Lalitpur  9845741256"
      ]
     },
     "execution_count": 43,
     "metadata": {},
     "output_type": "execute_result"
    }
   ],
   "source": [
    "# Kind of filter of multiple colume from same data set\n",
    "\n",
    "import pandas as pd\n",
    "df = pd.read_csv(\"info.csv\")\n",
    "df[(df['name'] == \"Hari\")& (df['phone'] == 9845741256)]\n"
   ]
  },
  {
   "cell_type": "code",
   "execution_count": 48,
   "id": "eb6482fd",
   "metadata": {},
   "outputs": [],
   "source": [
    "#Sorted or filters or search data can be saved to another file\n",
    "\n",
    "import pandas as pd\n",
    "df = pd.read_csv(\"info.csv\")\n",
    "data = df[(df['name'] == \"Hari\")& (df['phone'] == 9845741256)]\n",
    "data.to_csv(\"info1.csv\")"
   ]
  },
  {
   "cell_type": "code",
   "execution_count": 50,
   "id": "0d5d1bcb",
   "metadata": {},
   "outputs": [
    {
     "name": "stdout",
     "output_type": "stream",
     "text": [
      "Enput n = 2\n",
      "Enter name = Bikash\n",
      "Enter age = 35\n",
      "Enter add = Janakpur\n",
      "Enter name = Nirmal\n",
      "Enter age = 45\n",
      "Enter add = Jhapa\n",
      "{'name': ['Bikash', 'Nirmal'], 'age': [35, 45], 'add': ['Janakpur', 'Jhapa']}\n"
     ]
    },
    {
     "data": {
      "text/html": [
       "<div>\n",
       "<style scoped>\n",
       "    .dataframe tbody tr th:only-of-type {\n",
       "        vertical-align: middle;\n",
       "    }\n",
       "\n",
       "    .dataframe tbody tr th {\n",
       "        vertical-align: top;\n",
       "    }\n",
       "\n",
       "    .dataframe thead th {\n",
       "        text-align: right;\n",
       "    }\n",
       "</style>\n",
       "<table border=\"1\" class=\"dataframe\">\n",
       "  <thead>\n",
       "    <tr style=\"text-align: right;\">\n",
       "      <th></th>\n",
       "      <th>name</th>\n",
       "      <th>age</th>\n",
       "      <th>add</th>\n",
       "    </tr>\n",
       "  </thead>\n",
       "  <tbody>\n",
       "    <tr>\n",
       "      <th>0</th>\n",
       "      <td>Bikash</td>\n",
       "      <td>35</td>\n",
       "      <td>Janakpur</td>\n",
       "    </tr>\n",
       "    <tr>\n",
       "      <th>1</th>\n",
       "      <td>Nirmal</td>\n",
       "      <td>45</td>\n",
       "      <td>Jhapa</td>\n",
       "    </tr>\n",
       "  </tbody>\n",
       "</table>\n",
       "</div>"
      ],
      "text/plain": [
       "     name  age       add\n",
       "0  Bikash   35  Janakpur\n",
       "1  Nirmal   45     Jhapa"
      ]
     },
     "execution_count": 50,
     "metadata": {},
     "output_type": "execute_result"
    }
   ],
   "source": [
    "import pandas as pd\n",
    "data = {'name':[],'age':[],'add':[]}\n",
    "n = int(input(\"Enput n = \"))\n",
    "for i in range(n):\n",
    "    name = input(\"Enter name = \")\n",
    "    age = int(input(\"Enter age = \"))\n",
    "    add = input(\"Enter add = \")\n",
    "    data['name'].append(name)\n",
    "    data['age'].append(age)\n",
    "    data['add'].append(add)\n",
    "print(data)\n",
    "\n",
    "df = pd.DataFrame(data)\n",
    "df\n"
   ]
  },
  {
   "cell_type": "code",
   "execution_count": 51,
   "id": "5baf454f",
   "metadata": {},
   "outputs": [],
   "source": [
    "df.to_csv(\"Info3.csv\")"
   ]
  },
  {
   "cell_type": "code",
   "execution_count": 1,
   "id": "a936fbde",
   "metadata": {},
   "outputs": [
    {
     "name": "stdout",
     "output_type": "stream",
     "text": [
      "ENter n = 2\n",
      "Enter name = Gour\n",
      "enter age = 25\n",
      "enter Address = Lalitpur\n",
      "Enter name = Bikash\n",
      "enter age = 65\n",
      "enter Address = Gowarko\n",
      "[['Gour', 25, 'Lalitpur'], ['Bikash', 65, 'Gowarko']]\n"
     ]
    },
    {
     "ename": "AttributeError",
     "evalue": "module 'csv' has no attribute 'write'",
     "output_type": "error",
     "traceback": [
      "\u001b[1;31m---------------------------------------------------------------------------\u001b[0m",
      "\u001b[1;31mAttributeError\u001b[0m                            Traceback (most recent call last)",
      "\u001b[1;32m~\\AppData\\Local\\Temp\\ipykernel_9708\\4120626825.py\u001b[0m in \u001b[0;36m<module>\u001b[1;34m\u001b[0m\n\u001b[0;32m     10\u001b[0m \u001b[1;33m\u001b[0m\u001b[0m\n\u001b[0;32m     11\u001b[0m \u001b[0mfile\u001b[0m \u001b[1;33m=\u001b[0m \u001b[0mopen\u001b[0m\u001b[1;33m(\u001b[0m\u001b[1;34m'Info4.csv'\u001b[0m\u001b[1;33m,\u001b[0m\u001b[1;34m'w'\u001b[0m\u001b[1;33m)\u001b[0m\u001b[1;33m\u001b[0m\u001b[1;33m\u001b[0m\u001b[0m\n\u001b[1;32m---> 12\u001b[1;33m \u001b[0mx\u001b[0m \u001b[1;33m=\u001b[0m \u001b[0mcsv\u001b[0m\u001b[1;33m.\u001b[0m\u001b[0mwrite\u001b[0m\u001b[1;33m(\u001b[0m\u001b[0mfile\u001b[0m\u001b[1;33m)\u001b[0m\u001b[1;33m\u001b[0m\u001b[1;33m\u001b[0m\u001b[0m\n\u001b[0m\u001b[0;32m     13\u001b[0m \u001b[0mx\u001b[0m\u001b[1;33m.\u001b[0m\u001b[0mwriterow\u001b[0m\u001b[1;33m(\u001b[0m\u001b[1;34m'name'\u001b[0m\u001b[1;33m,\u001b[0m\u001b[1;34m'age'\u001b[0m\u001b[1;33m,\u001b[0m\u001b[1;34m'address'\u001b[0m\u001b[1;33m)\u001b[0m          \u001b[1;31m# for one / single roe\u001b[0m\u001b[1;33m\u001b[0m\u001b[1;33m\u001b[0m\u001b[0m\n\u001b[0;32m     14\u001b[0m \u001b[0mx\u001b[0m\u001b[1;33m.\u001b[0m\u001b[0mwriterows\u001b[0m\u001b[1;33m(\u001b[0m\u001b[0minfo\u001b[0m\u001b[1;33m)\u001b[0m                           \u001b[1;31m# for multiple roes\u001b[0m\u001b[1;33m\u001b[0m\u001b[1;33m\u001b[0m\u001b[0m\n",
      "\u001b[1;31mAttributeError\u001b[0m: module 'csv' has no attribute 'write'"
     ]
    }
   ],
   "source": [
    "import csv\n",
    "info = []\n",
    "n = int(input(\"ENter n = \"))\n",
    "for i in range(n):\n",
    "    name = input(\"Enter name = \")\n",
    "    age = int(input(\"enter age = \"))\n",
    "    address = input(\"enter Address = \")\n",
    "    info.append([name,age,address])\n",
    "print(info)\n",
    "\n",
    "file = open('Info4.csv','w')\n",
    "x = csv.write(file)\n",
    "x.writerow('name','age','address')          # for one / single roe\n",
    "x.writerows(info)                           # for multiple roes\n",
    "file.close()"
   ]
  }
 ],
 "metadata": {
  "kernelspec": {
   "display_name": "Python 3 (ipykernel)",
   "language": "python",
   "name": "python3"
  },
  "language_info": {
   "codemirror_mode": {
    "name": "ipython",
    "version": 3
   },
   "file_extension": ".py",
   "mimetype": "text/x-python",
   "name": "python",
   "nbconvert_exporter": "python",
   "pygments_lexer": "ipython3",
   "version": "3.9.13"
  }
 },
 "nbformat": 4,
 "nbformat_minor": 5
}
