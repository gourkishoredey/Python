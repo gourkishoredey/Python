{
 "cells": [
  {
   "cell_type": "code",
   "execution_count": null,
   "id": "dc7437a0",
   "metadata": {},
   "outputs": [],
   "source": [
    "a = int(input(\"Enter price = \"))\n",
    "print(a)"
   ]
  },
  {
   "cell_type": "code",
   "execution_count": 1,
   "id": "524f1c71",
   "metadata": {},
   "outputs": [
    {
     "name": "stdout",
     "output_type": "stream",
     "text": [
      "Enter n = 5\n",
      "5 is an odd number\n"
     ]
    }
   ],
   "source": [
    "n = int(input(\"Enter n = \"))\n",
    "if n%2==0:\n",
    "    print(n, \"is an even number\")\n",
    "else:\n",
    "    print(n, \"is an odd number\")"
   ]
  },
  {
   "cell_type": "code",
   "execution_count": 5,
   "id": "fbac98e6",
   "metadata": {},
   "outputs": [
    {
     "name": "stdout",
     "output_type": "stream",
     "text": [
      "Enter n = 5\n",
      "5 is an odd and positive number\n"
     ]
    }
   ],
   "source": [
    "n = int(input(\"Enter n = \"))\n",
    "if n%2==0 and n>0:\n",
    "    print(n, \"is an even and positive number\")\n",
    "else:\n",
    "    print (n, \"is an odd and positive number\")"
   ]
  },
  {
   "cell_type": "code",
   "execution_count": 1,
   "id": "ac46eb5d",
   "metadata": {},
   "outputs": [
    {
     "name": "stdout",
     "output_type": "stream",
     "text": [
      "0\n",
      "1\n",
      "2\n",
      "3\n",
      "4\n"
     ]
    }
   ],
   "source": [
    "for i in range(5):\n",
    "    print(i)"
   ]
  },
  {
   "cell_type": "code",
   "execution_count": null,
   "id": "50028f57",
   "metadata": {},
   "outputs": [],
   "source": []
  }
 ],
 "metadata": {
  "kernelspec": {
   "display_name": "Python 3 (ipykernel)",
   "language": "python",
   "name": "python3"
  },
  "language_info": {
   "codemirror_mode": {
    "name": "ipython",
    "version": 3
   },
   "file_extension": ".py",
   "mimetype": "text/x-python",
   "name": "python",
   "nbconvert_exporter": "python",
   "pygments_lexer": "ipython3",
   "version": "3.9.13"
  }
 },
 "nbformat": 4,
 "nbformat_minor": 5
}
