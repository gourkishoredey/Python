{
 "cells": [
  {
   "cell_type": "code",
   "execution_count": 1,
   "id": "7911e205",
   "metadata": {},
   "outputs": [],
   "source": [
    "# if/else:"
   ]
  },
  {
   "cell_type": "code",
   "execution_count": 2,
   "id": "f7248f2e",
   "metadata": {},
   "outputs": [],
   "source": [
    "# if <condition>:\n",
    "#     <operations>\n",
    "# elif <condition>:\n",
    "#     <operations>\n",
    "# ...\n",
    "# else:\n",
    "#     <oprations>"
   ]
  },
  {
   "cell_type": "code",
   "execution_count": 3,
   "id": "c8330d8a",
   "metadata": {},
   "outputs": [],
   "source": [
    "# < > <= >= == !="
   ]
  },
  {
   "cell_type": "code",
   "execution_count": null,
   "id": "895479f3",
   "metadata": {},
   "outputs": [],
   "source": [
    "a = int(input(\"Enter a = \"))\n",
    "if a>0:\n",
    "    print(a,\"is +ve value \")\n",
    "elif a<0:\n",
    "    print(a,\"is -ve value \")\n",
    "else:\n",
    "    print(\"The value is 0\")"
   ]
  },
  {
   "cell_type": "code",
   "execution_count": 4,
   "id": "d782ea55",
   "metadata": {},
   "outputs": [
    {
     "name": "stdout",
     "output_type": "stream",
     "text": [
      "Enter a = 9\n",
      "9 is odd no\n"
     ]
    }
   ],
   "source": [
    "a = int(input(\"Enter a = \"))\n",
    "if a%2==0:\n",
    "    print(a,\"is even no\")\n",
    "else:\n",
    "    print(a,\"is odd no\")"
   ]
  },
  {
   "cell_type": "code",
   "execution_count": 6,
   "id": "b6a9c257",
   "metadata": {},
   "outputs": [
    {
     "name": "stdout",
     "output_type": "stream",
     "text": [
      "Enter a = 10.5\n",
      "Enter b = 10.4\n",
      "a is greater than b\n"
     ]
    }
   ],
   "source": [
    "a = float(input(\"Enter a = \"))\n",
    "b = float(input(\"Enter b = \"))\n",
    "if a>b:\n",
    "    print(\"a is greater than b\")\n",
    "elif b>a:\n",
    "    print(\"b is greater than a \")\n",
    "else:\n",
    "    print(\"both are equal\")"
   ]
  },
  {
   "cell_type": "code",
   "execution_count": 7,
   "id": "17297784",
   "metadata": {},
   "outputs": [
    {
     "name": "stdout",
     "output_type": "stream",
     "text": [
      "Enter physics marks = 78\n",
      "Enter chemistry marks = 98\n",
      "Enter math marks = 67\n",
      "Enter english marks = 67\n",
      "Enter nepali marks = 90\n",
      "Total =  400\n",
      "Per =  80.0\n",
      "Grade =  A\n"
     ]
    }
   ],
   "source": [
    "physics = int(input(\"Enter physics marks = \"))\n",
    "chemistry = int(input(\"Enter chemistry marks = \"))\n",
    "math = int(input(\"Enter math marks = \"))\n",
    "english = int(input(\"Enter english marks = \"))\n",
    "nepali = int(input(\"Enter nepali marks = \"))\n",
    "\n",
    "total = physics + chemistry + math + english + nepali\n",
    "per = total/5\n",
    "\n",
    "if per >= 80:\n",
    "    grade = \"A\"\n",
    "elif per >=60:\n",
    "    grade = \"B\"\n",
    "elif per >= 45:\n",
    "    grade = \"C\"\n",
    "else:\n",
    "    grade = \"F\"\n",
    "    \n",
    "print(\"Your Total = \",total)\n",
    "print(\"Your Per = \",per)\n",
    "print(\"Your Grade = \",grade)"
   ]
  },
  {
   "cell_type": "code",
   "execution_count": 9,
   "id": "4a916a83",
   "metadata": {},
   "outputs": [
    {
     "name": "stdout",
     "output_type": "stream",
     "text": [
      "World Hello\n"
     ]
    }
   ],
   "source": [
    "a = \"Hello\"\n",
    "print(\"World\",a)"
   ]
  },
  {
   "cell_type": "code",
   "execution_count": 10,
   "id": "2684216c",
   "metadata": {},
   "outputs": [
    {
     "name": "stdout",
     "output_type": "stream",
     "text": [
      "Enter a = 10\n",
      "Enter b = 3\n",
      "Enter + - * /  /\n",
      "3.3333333333333335\n"
     ]
    }
   ],
   "source": [
    "a = int(input(\"Enter a = \"))\n",
    "b = int(input(\"Enter b = \"))\n",
    "o = input(\"Enter + - * /  \")\n",
    "if o == \"+\":\n",
    "    print(a+b)\n",
    "elif o == '-':\n",
    "    print(a-b)\n",
    "elif o == '*':\n",
    "    print(a*b)\n",
    "elif o == '/':\n",
    "    print(a/b)\n",
    "    \n",
    "else:\n",
    "    print(\"Invalid operator \")"
   ]
  },
  {
   "cell_type": "code",
   "execution_count": null,
   "id": "5e3275be",
   "metadata": {},
   "outputs": [],
   "source": []
  }
 ],
 "metadata": {
  "kernelspec": {
   "display_name": "Python 3 (ipykernel)",
   "language": "python",
   "name": "python3"
  },
  "language_info": {
   "codemirror_mode": {
    "name": "ipython",
    "version": 3
   },
   "file_extension": ".py",
   "mimetype": "text/x-python",
   "name": "python",
   "nbconvert_exporter": "python",
   "pygments_lexer": "ipython3",
   "version": "3.9.12"
  }
 },
 "nbformat": 4,
 "nbformat_minor": 5
}
