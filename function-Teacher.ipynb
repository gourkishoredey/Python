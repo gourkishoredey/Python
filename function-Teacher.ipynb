{
 "cells": [
  {
   "cell_type": "code",
   "execution_count": 1,
   "id": "38e96fa2",
   "metadata": {},
   "outputs": [],
   "source": [
    "# pred defined\n",
    "# user defined"
   ]
  },
  {
   "cell_type": "code",
   "execution_count": 2,
   "id": "5a4625a8",
   "metadata": {},
   "outputs": [],
   "source": [
    "# # pre defined\n",
    "# # int() float() str() print() input()\n",
    "\n",
    "# user defined\n",
    "# def <function_name>():\n",
    "#     <operations>\n",
    "    \n",
    "# <function_name>()"
   ]
  },
  {
   "cell_type": "code",
   "execution_count": 4,
   "id": "ccb5132f",
   "metadata": {},
   "outputs": [
    {
     "name": "stdout",
     "output_type": "stream",
     "text": [
      "10\n"
     ]
    }
   ],
   "source": [
    "a = 10\n",
    "print(10)"
   ]
  },
  {
   "cell_type": "code",
   "execution_count": 3,
   "id": "e2dd53f8",
   "metadata": {},
   "outputs": [
    {
     "name": "stdout",
     "output_type": "stream",
     "text": [
      "Hello World\n"
     ]
    }
   ],
   "source": [
    "def hello():\n",
    "    print(\"Hello World\")\n",
    "    \n",
    "hello()"
   ]
  },
  {
   "cell_type": "code",
   "execution_count": 5,
   "id": "9010bf57",
   "metadata": {},
   "outputs": [
    {
     "name": "stdout",
     "output_type": "stream",
     "text": [
      "Enter l = 10\n",
      "Enter b = 3\n",
      "30\n"
     ]
    }
   ],
   "source": [
    "def area():\n",
    "    l = int(input(\"Enter l = \"))      #local variable\n",
    "    b = int(input(\"Enter b = \"))      #local variable\n",
    "    a = l*b\n",
    "    print(a)\n",
    "    \n",
    "area()"
   ]
  },
  {
   "cell_type": "code",
   "execution_count": null,
   "id": "29d24e26",
   "metadata": {},
   "outputs": [],
   "source": [
    "l = int(input(\"Enter l = \"))      #global variable\n",
    "b = int(input(\"Enter b = \"))      #global variable\n",
    "\n",
    "def area():\n",
    "    a = l*b\n",
    "    print(a)\n",
    "    \n",
    "area()"
   ]
  },
  {
   "cell_type": "code",
   "execution_count": null,
   "id": "b8b28fee",
   "metadata": {},
   "outputs": [],
   "source": [
    "# function without argument and no return type\n",
    "# function with argument and no return type\n",
    "# function without argument and return type\n",
    "# function with argument and return type"
   ]
  },
  {
   "cell_type": "code",
   "execution_count": 6,
   "id": "f22cb2b6",
   "metadata": {},
   "outputs": [
    {
     "name": "stdout",
     "output_type": "stream",
     "text": [
      "Enter l = 10\n",
      "Enter b = 5\n",
      "50\n"
     ]
    }
   ],
   "source": [
    "# function with argument and no return type\n",
    "l = int(input(\"Enter l = \"))      #global variable\n",
    "b = int(input(\"Enter b = \"))      #global variable\n",
    "\n",
    "def area(x,y):   #parameter\n",
    "    a = x*y\n",
    "    print(a)\n",
    "    \n",
    "area(l,b)     #argument"
   ]
  },
  {
   "cell_type": "code",
   "execution_count": 7,
   "id": "e4f2b2e7",
   "metadata": {},
   "outputs": [
    {
     "name": "stdout",
     "output_type": "stream",
     "text": [
      "Enter l = 10\n",
      "Enter b = 20\n",
      "200\n"
     ]
    }
   ],
   "source": [
    "# function with argument and no return type\n",
    "\n",
    "def area(x,y):   #parameter\n",
    "    a = x*y\n",
    "    print(a)\n",
    "    \n",
    "l = int(input(\"Enter l = \"))      #global variable\n",
    "b = int(input(\"Enter b = \"))      #global variable\n",
    "\n",
    "area(l,b)     #argument"
   ]
  },
  {
   "cell_type": "code",
   "execution_count": null,
   "id": "690cbd62",
   "metadata": {},
   "outputs": [],
   "source": [
    "# function with argument and no return type\n",
    "\n",
    "def area(x,y):   #parameter\n",
    "    a = x*y\n",
    "    print(a)\n",
    "\n",
    "def volume(x,y,z):  #parameter\n",
    "    v = x*y*z\n",
    "    print(v)\n",
    "    \n",
    "l = int(input(\"Enter l = \"))      #global variable\n",
    "b = int(input(\"Enter b = \"))      #global variable\n",
    "h = int(input(\"Enter h = \"))      #global variable\n",
    "\n",
    "\n",
    "area(l,b)     #argument\n",
    "volume(l,b,h)  #argument"
   ]
  },
  {
   "cell_type": "code",
   "execution_count": 8,
   "id": "46e1f197",
   "metadata": {},
   "outputs": [],
   "source": [
    "# return type function"
   ]
  },
  {
   "cell_type": "code",
   "execution_count": 10,
   "id": "5448e74c",
   "metadata": {},
   "outputs": [
    {
     "name": "stdout",
     "output_type": "stream",
     "text": [
      "Hello World\n"
     ]
    }
   ],
   "source": [
    "# function without argument and return type\n",
    "\n",
    "def hello():\n",
    "    return \"Hello World\"\n",
    "\n",
    "print(hello())"
   ]
  },
  {
   "cell_type": "code",
   "execution_count": 12,
   "id": "9098786d",
   "metadata": {},
   "outputs": [
    {
     "name": "stdout",
     "output_type": "stream",
     "text": [
      "20\n",
      "The volume =  40\n"
     ]
    }
   ],
   "source": [
    "# function without argument and return type\n",
    "\n",
    "def area():\n",
    "    l = 10\n",
    "    b = 2\n",
    "    a = l*b\n",
    "    return a\n",
    "\n",
    "x = area()\n",
    "h = 2\n",
    "print(x)\n",
    "print(\"The volume = \",x*h)"
   ]
  },
  {
   "cell_type": "code",
   "execution_count": 13,
   "id": "bac351b1",
   "metadata": {},
   "outputs": [
    {
     "name": "stdout",
     "output_type": "stream",
     "text": [
      "Enter l = 10\n",
      "Enter b = 3\n",
      "Enter h = 2\n",
      "This area =  30\n",
      "The volume =  60\n"
     ]
    }
   ],
   "source": [
    "# function with argument and return type\n",
    "\n",
    "def area(l,b):\n",
    "    a = l*b\n",
    "    return a\n",
    "\n",
    "l = int(input(\"Enter l = \"))\n",
    "b = int(input(\"Enter b = \"))\n",
    "h = int(input(\"Enter h = \"))\n",
    "\n",
    "x = area(l,b)\n",
    "print(\"This area = \",x)\n",
    "print(\"The volume = \",x*h)"
   ]
  },
  {
   "cell_type": "code",
   "execution_count": 16,
   "id": "38b5a81c",
   "metadata": {},
   "outputs": [
    {
     "name": "stdout",
     "output_type": "stream",
     "text": [
      "Enter l = 100\n",
      "Enter b = 23\n",
      "Enter h = 45\n",
      "The area =  2300\n",
      "The volume =  103500\n"
     ]
    }
   ],
   "source": [
    "# function with argument and return type\n",
    "\n",
    "def cal(l,b,h):\n",
    "    a = l*b\n",
    "    v = a*h\n",
    "    return a,v\n",
    "\n",
    "l = int(input(\"Enter l = \"))\n",
    "b = int(input(\"Enter b = \"))\n",
    "h = int(input(\"Enter h = \"))\n",
    "\n",
    "x = cal(l,b,h)\n",
    "area,volume = x\n",
    "print(\"The area = \",area)\n",
    "print(\"The volume = \",volume)"
   ]
  },
  {
   "cell_type": "code",
   "execution_count": 20,
   "id": "c7bfe955",
   "metadata": {},
   "outputs": [
    {
     "name": "stdout",
     "output_type": "stream",
     "text": [
      "1 C\n",
      "3 C++\n",
      "4 Java\n",
      "0 Python\n"
     ]
    }
   ],
   "source": [
    "def language(l,lan = \"Python\"):\n",
    "    print(l,lan)\n",
    "    \n",
    "language(1,\"C\")\n",
    "language(3,\"C++\")\n",
    "language(4,\"Java\")\n",
    "language(0)"
   ]
  },
  {
   "cell_type": "code",
   "execution_count": 21,
   "id": "53cbac17",
   "metadata": {},
   "outputs": [
    {
     "name": "stdout",
     "output_type": "stream",
     "text": [
      "Enter a = 10\n",
      "Enter b = 2\n",
      "Enter + - * /  +\n",
      "12\n"
     ]
    }
   ],
   "source": [
    "def add(a,b):\n",
    "    return a+b\n",
    "def sub(a,b):\n",
    "    return a-b\n",
    "def mul(a,b):\n",
    "    return a*b\n",
    "def div(a,b):\n",
    "    return a/b\n",
    "def cal():\n",
    "    a = int(input(\"Enter a = \"))\n",
    "    b = int(input(\"Enter b = \"))\n",
    "    o = input(\"Enter + - * /  \")\n",
    "    if o == \"+\":\n",
    "        print(add(a,b))\n",
    "    elif o == '-':\n",
    "        print(sub(a,b))\n",
    "    elif o == '*':\n",
    "        print(mul(a,b))\n",
    "    elif o == '/':\n",
    "        print(div(a,b))\n",
    "\n",
    "    else:\n",
    "        print(\"Invalid operator \")\n",
    "        \n",
    "cal()"
   ]
  },
  {
   "cell_type": "code",
   "execution_count": null,
   "id": "6a9568e7",
   "metadata": {},
   "outputs": [],
   "source": [
    "def hello():\n",
    "    print(\"Hello World\")\n",
    "    hello()\n",
    "    \n",
    "hello()"
   ]
  },
  {
   "cell_type": "code",
   "execution_count": null,
   "id": "4cda7745",
   "metadata": {},
   "outputs": [],
   "source": []
  }
 ],
 "metadata": {
  "kernelspec": {
   "display_name": "Python 3 (ipykernel)",
   "language": "python",
   "name": "python3"
  },
  "language_info": {
   "codemirror_mode": {
    "name": "ipython",
    "version": 3
   },
   "file_extension": ".py",
   "mimetype": "text/x-python",
   "name": "python",
   "nbconvert_exporter": "python",
   "pygments_lexer": "ipython3",
   "version": "3.9.12"
  }
 },
 "nbformat": 4,
 "nbformat_minor": 5
}
