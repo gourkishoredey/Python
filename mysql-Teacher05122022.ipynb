{
 "cells": [
  {
   "cell_type": "code",
   "execution_count": 6,
   "id": "b7d1022e",
   "metadata": {},
   "outputs": [
    {
     "name": "stdout",
     "output_type": "stream",
     "text": [
      "Defaulting to user installation because normal site-packages is not writeable\n",
      "Requirement already satisfied: mysql-connector in c:\\users\\gour\\appdata\\roaming\\python\\python39\\site-packages (2.2.9)\n"
     ]
    }
   ],
   "source": [
    "!pip install mysql-connector"
   ]
  },
  {
   "cell_type": "code",
   "execution_count": 2,
   "id": "e0dc2e7a",
   "metadata": {},
   "outputs": [],
   "source": [
    "import mysql.connector  #importing database\n",
    "database = mysql.connector.connect(\n",
    "    host=\"localhost\",\n",
    "    user=\"root\",\n",
    "    password=\"\",\n",
    "    database = \"pythonclass8am\"\n",
    ")\n",
    "db = database.cursor()"
   ]
  },
  {
   "cell_type": "code",
   "execution_count": 3,
   "id": "9b01a8da",
   "metadata": {},
   "outputs": [
    {
     "data": {
      "text/plain": [
       "[(1, 'Ram', 90, 85, 83, 92, 88, 438, 87.6, 'A')]"
      ]
     },
     "execution_count": 3,
     "metadata": {},
     "output_type": "execute_result"
    }
   ],
   "source": [
    "db.execute(\"SELECT * FROM student\")\n",
    "result = db.fetchall()\n",
    "# for x in result:\n",
    "#     print(x)\n",
    "result"
   ]
  },
  {
   "cell_type": "code",
   "execution_count": 4,
   "id": "9cde53a0",
   "metadata": {},
   "outputs": [
    {
     "data": {
      "text/plain": [
       "[(1, 'Ram', 90, 85, 83, 92, 88, 438, 87.6, 'A')]"
      ]
     },
     "execution_count": 4,
     "metadata": {},
     "output_type": "execute_result"
    }
   ],
   "source": [
    "db.execute(\"SELECT * FROM student WHERE grade = 'A'\")\n",
    "result = db.fetchall()\n",
    "# for x in result:\n",
    "#     print(x)\n",
    "result"
   ]
  },
  {
   "cell_type": "code",
   "execution_count": 5,
   "id": "877754c6",
   "metadata": {},
   "outputs": [
    {
     "data": {
      "text/plain": [
       "[(1, 'Ram', 90, 85, 83, 92, 88, 438, 87.6, 'A')]"
      ]
     },
     "execution_count": 5,
     "metadata": {},
     "output_type": "execute_result"
    }
   ],
   "source": [
    "db.execute(\"SELECT * FROM student WHERE grade = 'A' and math > 70\")\n",
    "result = db.fetchall()\n",
    "# for x in result:\n",
    "#     print(x)\n",
    "result"
   ]
  },
  {
   "cell_type": "code",
   "execution_count": 6,
   "id": "f05be02e",
   "metadata": {},
   "outputs": [],
   "source": [
    "# INSERT INTO `student` (`sn`, `name`, `physics`, `chemistry`, `math`, `english`, `nepali`, `total`, `percentage`, `grade`) VALUES ('4', 'Shyam', '78', '60', '65', '70', '78', '410', '81.4', 'A');\n",
    "sql = '''INSERT INTO student ( name, physics, chemistry, math, english, nepali, total, percentage, grade) \n",
    "VALUES ('Shyam', 78, 60, 75, 70, 78, 410, 81.4, 'A')'''\n",
    "db.execute(sql)\n",
    "database.commit()"
   ]
  },
  {
   "cell_type": "code",
   "execution_count": 7,
   "id": "f597d025",
   "metadata": {},
   "outputs": [
    {
     "name": "stdout",
     "output_type": "stream",
     "text": [
      "Enter name = Barsha\n",
      "Enter physics marks = 98\n",
      "Enter chemistry marks = 65\n",
      "Enter math marks = 58\n",
      "Enter english marks = 47\n",
      "Enter nepali marks = 68\n",
      "Your Total =  336\n",
      "Your Per =  67.2\n",
      "Your Grade =  B\n",
      "INSERT INTO student ( name, physics, chemistry, math, english, nepali, total, percentage, grade) \n",
      "VALUES ('Barsha', 98, 65, 58, 47, 68, 336, 67.2, 'B')\n"
     ]
    }
   ],
   "source": [
    "name = input(\"Enter name = \")\n",
    "physics = int(input(\"Enter physics marks = \"))\n",
    "chemistry = int(input(\"Enter chemistry marks = \"))\n",
    "math = int(input(\"Enter math marks = \"))\n",
    "english = int(input(\"Enter english marks = \"))\n",
    "nepali = int(input(\"Enter nepali marks = \"))\n",
    "\n",
    "total = physics + chemistry + math + english + nepali\n",
    "per = total/5\n",
    "\n",
    "if per >= 80:\n",
    "    grade = \"A\"\n",
    "elif per >=60:\n",
    "    grade = \"B\"\n",
    "elif per >= 45:\n",
    "    grade = \"C\"\n",
    "else:\n",
    "    grade = \"F\"\n",
    "    \n",
    "print(\"Your Total = \",total)\n",
    "print(\"Your Per = \",per)\n",
    "print(\"Your Grade = \",grade)\n",
    "\n",
    "sql = f'''INSERT INTO student ( name, physics, chemistry, math, english, nepali, total, percentage, grade) \n",
    "VALUES ('{name}', {physics}, {chemistry}, {math}, {english}, {nepali}, {total}, {per}, '{grade}')'''\n",
    "db.execute(sql)\n",
    "database.commit()\n",
    "print(sql)"
   ]
  },
  {
   "cell_type": "code",
   "execution_count": 17,
   "id": "2707e164",
   "metadata": {},
   "outputs": [
    {
     "name": "stdout",
     "output_type": "stream",
     "text": [
      "DELETE FROM student WHERE sn = 6\n"
     ]
    }
   ],
   "source": [
    "sql = f'''DELETE FROM student WHERE sn = 6'''\n",
    "db.execute(sql)\n",
    "database.commit()\n",
    "print(sql)"
   ]
  },
  {
   "cell_type": "code",
   "execution_count": 18,
   "id": "41eec92c",
   "metadata": {},
   "outputs": [
    {
     "name": "stdout",
     "output_type": "stream",
     "text": [
      "UPDATE  student SET name = 'Shyama' WHERE sn = 3\n"
     ]
    }
   ],
   "source": [
    "sql = f'''UPDATE  student SET name = 'Shyama' WHERE sn = 3'''\n",
    "db.execute(sql)\n",
    "database.commit()\n",
    "print(sql)"
   ]
  },
  {
   "cell_type": "code",
   "execution_count": null,
   "id": "fcf325d6",
   "metadata": {},
   "outputs": [],
   "source": []
  }
 ],
 "metadata": {
  "kernelspec": {
   "display_name": "Python 3 (ipykernel)",
   "language": "python",
   "name": "python3"
  },
  "language_info": {
   "codemirror_mode": {
    "name": "ipython",
    "version": 3
   },
   "file_extension": ".py",
   "mimetype": "text/x-python",
   "name": "python",
   "nbconvert_exporter": "python",
   "pygments_lexer": "ipython3",
   "version": "3.9.13"
  }
 },
 "nbformat": 4,
 "nbformat_minor": 5
}
